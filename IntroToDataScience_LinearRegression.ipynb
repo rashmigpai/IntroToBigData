{
  "nbformat": 4,
  "nbformat_minor": 0,
  "metadata": {
    "colab": {
      "name": "IntroToDataScience_LinearRegression",
      "provenance": [],
      "collapsed_sections": [],
      "authorship_tag": "ABX9TyMzsKSxeL/GG/05z5WsVe8F",
      "include_colab_link": true
    },
    "kernelspec": {
      "name": "python3",
      "display_name": "Python 3"
    },
    "language_info": {
      "name": "python"
    }
  },
  "cells": [
    {
      "cell_type": "markdown",
      "metadata": {
        "id": "view-in-github",
        "colab_type": "text"
      },
      "source": [
        "<a href=\"https://colab.research.google.com/github/rashmigpai/IntroToBigData/blob/main/IntroToDataScience_LinearRegression.ipynb\" target=\"_parent\"><img src=\"https://colab.research.google.com/assets/colab-badge.svg\" alt=\"Open In Colab\"/></a>"
      ]
    },
    {
      "cell_type": "code",
      "metadata": {
        "id": "bSi5Vw3sLX5f",
        "colab": {
          "base_uri": "https://localhost:8080/"
        },
        "outputId": "2d2d2706-5764-4c00-86af-41a9c850255a"
      },
      "source": [
        "!pip install pyspark"
      ],
      "execution_count": 1,
      "outputs": [
        {
          "output_type": "stream",
          "text": [
            "Collecting pyspark\n",
            "\u001b[?25l  Downloading https://files.pythonhosted.org/packages/45/b0/9d6860891ab14a39d4bddf80ba26ce51c2f9dc4805e5c6978ac0472c120a/pyspark-3.1.1.tar.gz (212.3MB)\n",
            "\u001b[K     |████████████████████████████████| 212.3MB 70kB/s \n",
            "\u001b[?25hCollecting py4j==0.10.9\n",
            "\u001b[?25l  Downloading https://files.pythonhosted.org/packages/9e/b6/6a4fb90cd235dc8e265a6a2067f2a2c99f0d91787f06aca4bcf7c23f3f80/py4j-0.10.9-py2.py3-none-any.whl (198kB)\n",
            "\u001b[K     |████████████████████████████████| 204kB 28.8MB/s \n",
            "\u001b[?25hBuilding wheels for collected packages: pyspark\n",
            "  Building wheel for pyspark (setup.py) ... \u001b[?25l\u001b[?25hdone\n",
            "  Created wheel for pyspark: filename=pyspark-3.1.1-py2.py3-none-any.whl size=212767604 sha256=2ab4e9c44adcac838c88529106c6530aca822a9b1e77b781b8450f85260b2303\n",
            "  Stored in directory: /root/.cache/pip/wheels/0b/90/c0/01de724414ef122bd05f056541fb6a0ecf47c7ca655f8b3c0f\n",
            "Successfully built pyspark\n",
            "Installing collected packages: py4j, pyspark\n",
            "Successfully installed py4j-0.10.9 pyspark-3.1.1\n"
          ],
          "name": "stdout"
        }
      ]
    },
    {
      "cell_type": "code",
      "metadata": {
        "colab": {
          "base_uri": "https://localhost:8080/"
        },
        "id": "2iLGAf88BkXu",
        "outputId": "281c9e52-6a88-4076-958b-e84e2835ccf9"
      },
      "source": [
        "!apt-get update \n",
        "!apt-get install openjdk-8-jdk-headless -qq > /dev/null"
      ],
      "execution_count": 2,
      "outputs": [
        {
          "output_type": "stream",
          "text": [
            "Get:1 https://cloud.r-project.org/bin/linux/ubuntu bionic-cran40/ InRelease [3,626 B]\n",
            "Ign:2 https://developer.download.nvidia.com/compute/cuda/repos/ubuntu1804/x86_64  InRelease\n",
            "Get:3 http://security.ubuntu.com/ubuntu bionic-security InRelease [88.7 kB]\n",
            "Ign:4 https://developer.download.nvidia.com/compute/machine-learning/repos/ubuntu1804/x86_64  InRelease\n",
            "Get:5 https://developer.download.nvidia.com/compute/cuda/repos/ubuntu1804/x86_64  Release [697 B]\n",
            "Hit:6 https://developer.download.nvidia.com/compute/machine-learning/repos/ubuntu1804/x86_64  Release\n",
            "Get:7 https://developer.download.nvidia.com/compute/cuda/repos/ubuntu1804/x86_64  Release.gpg [836 B]\n",
            "Get:8 http://ppa.launchpad.net/c2d4u.team/c2d4u4.0+/ubuntu bionic InRelease [15.9 kB]\n",
            "Hit:9 http://archive.ubuntu.com/ubuntu bionic InRelease\n",
            "Get:10 http://archive.ubuntu.com/ubuntu bionic-updates InRelease [88.7 kB]\n",
            "Get:11 https://cloud.r-project.org/bin/linux/ubuntu bionic-cran40/ Packages [55.5 kB]\n",
            "Hit:12 http://ppa.launchpad.net/cran/libgit2/ubuntu bionic InRelease\n",
            "Get:14 http://archive.ubuntu.com/ubuntu bionic-backports InRelease [74.6 kB]\n",
            "Hit:15 http://ppa.launchpad.net/deadsnakes/ppa/ubuntu bionic InRelease\n",
            "Ign:16 https://developer.download.nvidia.com/compute/cuda/repos/ubuntu1804/x86_64  Packages\n",
            "Get:16 https://developer.download.nvidia.com/compute/cuda/repos/ubuntu1804/x86_64  Packages [770 kB]\n",
            "Get:17 http://ppa.launchpad.net/graphics-drivers/ppa/ubuntu bionic InRelease [21.3 kB]\n",
            "Get:18 http://ppa.launchpad.net/c2d4u.team/c2d4u4.0+/ubuntu bionic/main Sources [1,759 kB]\n",
            "Get:19 http://archive.ubuntu.com/ubuntu bionic-updates/main amd64 Packages [2,550 kB]\n",
            "Get:20 http://ppa.launchpad.net/c2d4u.team/c2d4u4.0+/ubuntu bionic/main amd64 Packages [900 kB]\n",
            "Get:21 http://archive.ubuntu.com/ubuntu bionic-updates/universe amd64 Packages [2,182 kB]\n",
            "Get:22 http://ppa.launchpad.net/graphics-drivers/ppa/ubuntu bionic/main amd64 Packages [49.5 kB]\n",
            "Fetched 8,561 kB in 5s (1,868 kB/s)\n",
            "Reading package lists... Done\n"
          ],
          "name": "stdout"
        }
      ]
    },
    {
      "cell_type": "code",
      "metadata": {
        "id": "e8zKL8xNBv1v"
      },
      "source": [
        "# install spark (change the version number if needed)\n",
        "!wget -q https://archive.apache.org/dist/spark/spark-3.0.0/spark-3.0.0-bin-hadoop3.2.tgz\n",
        "\n",
        "# unzip the spark file to the current folder\n",
        "!tar xf spark-3.0.0-bin-hadoop3.2.tgz"
      ],
      "execution_count": 3,
      "outputs": []
    },
    {
      "cell_type": "code",
      "metadata": {
        "id": "J-2lSPxQB4JX"
      },
      "source": [
        "# set your spark folder to your system path environment. \n",
        "import os\n",
        "os.environ[\"JAVA_HOME\"] = \"/usr/lib/jvm/java-8-openjdk-amd64\"\n",
        "os.environ[\"SPARK_HOME\"] = \"/content/spark-3.0.0-bin-hadoop3.2\""
      ],
      "execution_count": 4,
      "outputs": []
    },
    {
      "cell_type": "code",
      "metadata": {
        "id": "YSGVZq0hB82M"
      },
      "source": [
        "# install findspark using pip\n",
        "!pip install -q findspark\n",
        "import findspark\n",
        "findspark.init()\n"
      ],
      "execution_count": 5,
      "outputs": []
    },
    {
      "cell_type": "code",
      "metadata": {
        "id": "YBjdkNJQCAfm"
      },
      "source": [
        "from pyspark import SparkConf, SparkContext\n",
        "from pyspark.sql import SparkSession, SQLContext\n",
        "\n",
        "from pyspark.sql.types import *\n",
        "\n",
        "spark = SparkSession \\\n",
        ".builder \\\n",
        ".master(\"local\") \\\n",
        ".appName(\"Housing Data\") \\\n",
        ".config(\"spark.sql.shuffle.partitions\",\"1\") \\\n",
        ".getOrCreate()"
      ],
      "execution_count": 6,
      "outputs": []
    },
    {
      "cell_type": "code",
      "metadata": {
        "id": "6JBquj8_CIY8"
      },
      "source": [
        "schema = StructType([\n",
        "    StructField(\"long\", FloatType(), nullable=True),\n",
        "    StructField(\"lat\", FloatType(), nullable=True),\n",
        "    StructField(\"medage\", FloatType(), nullable=True),\n",
        "    StructField(\"totrooms\", FloatType(), nullable=True),\n",
        "    StructField(\"totbdrms\", FloatType(), nullable=True),\n",
        "    StructField(\"pop\", FloatType(), nullable=True),\n",
        "    StructField(\"houshlds\", FloatType(), nullable=True),\n",
        "    StructField(\"medinc\", FloatType(), nullable=True),\n",
        "    StructField(\"medhv\", FloatType(), nullable=True)]\n",
        ")"
      ],
      "execution_count": 7,
      "outputs": []
    },
    {
      "cell_type": "code",
      "metadata": {
        "colab": {
          "base_uri": "https://localhost:8080/"
        },
        "id": "LzhPaorZCLg5",
        "outputId": "b0bc085c-d70a-47dc-a0fe-d57b35837bb8"
      },
      "source": [
        "housing_df = spark.read.csv(path='cal_housing.csv', schema=schema).cache()\n",
        "housing_df.columns"
      ],
      "execution_count": 8,
      "outputs": [
        {
          "output_type": "execute_result",
          "data": {
            "text/plain": [
              "['long',\n",
              " 'lat',\n",
              " 'medage',\n",
              " 'totrooms',\n",
              " 'totbdrms',\n",
              " 'pop',\n",
              " 'houshlds',\n",
              " 'medinc',\n",
              " 'medhv']"
            ]
          },
          "metadata": {
            "tags": []
          },
          "execution_count": 8
        }
      ]
    },
    {
      "cell_type": "markdown",
      "metadata": {
        "id": "taEsbFuxCTKT"
      },
      "source": [
        "The [California Housing data set](https://www.dcc.fc.up.pt/~ltorgo/Regression/cal_housing.html) appeared in a 1997 paper titled Sparse Spatial Autoregressions, written by Pace, R. Kelley and Ronald Barry and published in the Statistics and Probability Letters journal. The researchers built this data set by using the 1990 California census data.\n",
        "\n",
        "**Longitude:** refers to the angular distance of a geographic place north or south of the earth’s equator for each block group\n",
        "\n",
        "**Latitude:** refers to the angular distance of a geographic place east or west of the earth’s equator for each block group\n",
        "\n",
        "**Housing Median Age:** is the median age of the people that belong to a block group. Note that the median is the value that lies at the midpoint of a frequency distribution of observed values\n",
        "\n",
        "**Total Rooms:** is the total number of rooms in the houses per block group\n",
        "\n",
        "**Total Bedrooms:** is the total number of bedrooms in the houses per block group\n",
        "\n",
        "**Population:** is the number of inhabitants of a block group\n",
        "\n",
        "**Households:** refers to units of houses and their occupants per block group\n",
        "\n",
        "**Median Income:** is used to register the median income of people that belong to a block group\n",
        "\n",
        "**Median House Value:** is the dependent variable and refers to the median house value per block group"
      ]
    },
    {
      "cell_type": "code",
      "metadata": {
        "colab": {
          "base_uri": "https://localhost:8080/"
        },
        "id": "aPWdI6MyCUGd",
        "outputId": "c5cf0aec-bc0e-4c75-b8f6-eb6602ea2577"
      },
      "source": [
        "housing_df.printSchema()\n",
        "housing_df.show(5, truncate=False)"
      ],
      "execution_count": 9,
      "outputs": [
        {
          "output_type": "stream",
          "text": [
            "root\n",
            " |-- long: float (nullable = true)\n",
            " |-- lat: float (nullable = true)\n",
            " |-- medage: float (nullable = true)\n",
            " |-- totrooms: float (nullable = true)\n",
            " |-- totbdrms: float (nullable = true)\n",
            " |-- pop: float (nullable = true)\n",
            " |-- houshlds: float (nullable = true)\n",
            " |-- medinc: float (nullable = true)\n",
            " |-- medhv: float (nullable = true)\n",
            "\n",
            "+-------+-----+------+--------+--------+------+--------+------+--------+\n",
            "|long   |lat  |medage|totrooms|totbdrms|pop   |houshlds|medinc|medhv   |\n",
            "+-------+-----+------+--------+--------+------+--------+------+--------+\n",
            "|-122.23|37.88|41.0  |880.0   |129.0   |322.0 |126.0   |8.3252|452600.0|\n",
            "|-122.22|37.86|21.0  |7099.0  |1106.0  |2401.0|1138.0  |8.3014|358500.0|\n",
            "|-122.24|37.85|52.0  |1467.0  |190.0   |496.0 |177.0   |7.2574|352100.0|\n",
            "|-122.25|37.85|52.0  |1274.0  |235.0   |558.0 |219.0   |5.6431|341300.0|\n",
            "|-122.25|37.85|52.0  |1627.0  |280.0   |565.0 |259.0   |3.8462|342200.0|\n",
            "+-------+-----+------+--------+--------+------+--------+------+--------+\n",
            "only showing top 5 rows\n",
            "\n"
          ],
          "name": "stdout"
        }
      ]
    },
    {
      "cell_type": "markdown",
      "metadata": {
        "id": "hgXqmR-BC4M1"
      },
      "source": [
        "Checking for null values"
      ]
    },
    {
      "cell_type": "code",
      "metadata": {
        "colab": {
          "base_uri": "https://localhost:8080/"
        },
        "id": "63QtbviEC6SH",
        "outputId": "18be8e1a-6ca9-42a7-b396-a65d34ec1b94"
      },
      "source": [
        "housing_df.createOrReplaceTempView(\"DATA\")\n",
        "for column in housing_df.columns:\n",
        "    print(f\"printing rows where {column} is null\")\n",
        "    spark.sql(f\"SELECT * FROM DATA where {column} IS NULL\").show()"
      ],
      "execution_count": 10,
      "outputs": [
        {
          "output_type": "stream",
          "text": [
            "printing rows where long is null\n",
            "+----+---+------+--------+--------+---+--------+------+-----+\n",
            "|long|lat|medage|totrooms|totbdrms|pop|houshlds|medinc|medhv|\n",
            "+----+---+------+--------+--------+---+--------+------+-----+\n",
            "+----+---+------+--------+--------+---+--------+------+-----+\n",
            "\n",
            "printing rows where lat is null\n",
            "+----+---+------+--------+--------+---+--------+------+-----+\n",
            "|long|lat|medage|totrooms|totbdrms|pop|houshlds|medinc|medhv|\n",
            "+----+---+------+--------+--------+---+--------+------+-----+\n",
            "+----+---+------+--------+--------+---+--------+------+-----+\n",
            "\n",
            "printing rows where medage is null\n",
            "+----+---+------+--------+--------+---+--------+------+-----+\n",
            "|long|lat|medage|totrooms|totbdrms|pop|houshlds|medinc|medhv|\n",
            "+----+---+------+--------+--------+---+--------+------+-----+\n",
            "+----+---+------+--------+--------+---+--------+------+-----+\n",
            "\n",
            "printing rows where totrooms is null\n",
            "+----+---+------+--------+--------+---+--------+------+-----+\n",
            "|long|lat|medage|totrooms|totbdrms|pop|houshlds|medinc|medhv|\n",
            "+----+---+------+--------+--------+---+--------+------+-----+\n",
            "+----+---+------+--------+--------+---+--------+------+-----+\n",
            "\n",
            "printing rows where totbdrms is null\n",
            "+----+---+------+--------+--------+---+--------+------+-----+\n",
            "|long|lat|medage|totrooms|totbdrms|pop|houshlds|medinc|medhv|\n",
            "+----+---+------+--------+--------+---+--------+------+-----+\n",
            "+----+---+------+--------+--------+---+--------+------+-----+\n",
            "\n",
            "printing rows where pop is null\n",
            "+----+---+------+--------+--------+---+--------+------+-----+\n",
            "|long|lat|medage|totrooms|totbdrms|pop|houshlds|medinc|medhv|\n",
            "+----+---+------+--------+--------+---+--------+------+-----+\n",
            "+----+---+------+--------+--------+---+--------+------+-----+\n",
            "\n",
            "printing rows where houshlds is null\n",
            "+----+---+------+--------+--------+---+--------+------+-----+\n",
            "|long|lat|medage|totrooms|totbdrms|pop|houshlds|medinc|medhv|\n",
            "+----+---+------+--------+--------+---+--------+------+-----+\n",
            "+----+---+------+--------+--------+---+--------+------+-----+\n",
            "\n",
            "printing rows where medinc is null\n",
            "+----+---+------+--------+--------+---+--------+------+-----+\n",
            "|long|lat|medage|totrooms|totbdrms|pop|houshlds|medinc|medhv|\n",
            "+----+---+------+--------+--------+---+--------+------+-----+\n",
            "+----+---+------+--------+--------+---+--------+------+-----+\n",
            "\n",
            "printing rows where medhv is null\n",
            "+----+---+------+--------+--------+---+--------+------+-----+\n",
            "|long|lat|medage|totrooms|totbdrms|pop|houshlds|medinc|medhv|\n",
            "+----+---+------+--------+--------+---+--------+------+-----+\n",
            "+----+---+------+--------+--------+---+--------+------+-----+\n",
            "\n"
          ],
          "name": "stdout"
        }
      ]
    },
    {
      "cell_type": "markdown",
      "metadata": {
        "id": "X1hx9f2WDBv8"
      },
      "source": [
        "Data Exploration\n",
        "---\n",
        "\n",
        "\n"
      ]
    },
    {
      "cell_type": "code",
      "metadata": {
        "colab": {
          "base_uri": "https://localhost:8080/"
        },
        "id": "AdOqbmhxC6_F",
        "outputId": "ccdbf419-a576-4559-e659-4957d20ccecc"
      },
      "source": [
        "housing_df.select('pop','totbdrms').show(10)"
      ],
      "execution_count": 11,
      "outputs": [
        {
          "output_type": "stream",
          "text": [
            "+------+--------+\n",
            "|   pop|totbdrms|\n",
            "+------+--------+\n",
            "| 322.0|   129.0|\n",
            "|2401.0|  1106.0|\n",
            "| 496.0|   190.0|\n",
            "| 558.0|   235.0|\n",
            "| 565.0|   280.0|\n",
            "| 413.0|   213.0|\n",
            "|1094.0|   489.0|\n",
            "|1157.0|   687.0|\n",
            "|1206.0|   665.0|\n",
            "|1551.0|   707.0|\n",
            "+------+--------+\n",
            "only showing top 10 rows\n",
            "\n"
          ],
          "name": "stdout"
        }
      ]
    },
    {
      "cell_type": "markdown",
      "metadata": {
        "id": "xp4yEICpDL-a"
      },
      "source": [
        "Distribution of the median age of the people living in the area:\n",
        "---"
      ]
    },
    {
      "cell_type": "code",
      "metadata": {
        "colab": {
          "base_uri": "https://localhost:8080/"
        },
        "id": "3uWl1NX1DHuT",
        "outputId": "bba440ae-6f75-42b2-d412-8ea2b7a05901"
      },
      "source": [
        "result_df = housing_df.groupBy(\"medage\").count().sort(\"medage\", ascending=False)\n",
        "result_df.show(10)"
      ],
      "execution_count": 12,
      "outputs": [
        {
          "output_type": "stream",
          "text": [
            "+------+-----+\n",
            "|medage|count|\n",
            "+------+-----+\n",
            "|  52.0| 1273|\n",
            "|  51.0|   48|\n",
            "|  50.0|  136|\n",
            "|  49.0|  134|\n",
            "|  48.0|  177|\n",
            "|  47.0|  198|\n",
            "|  46.0|  245|\n",
            "|  45.0|  294|\n",
            "|  44.0|  356|\n",
            "|  43.0|  353|\n",
            "+------+-----+\n",
            "only showing top 10 rows\n",
            "\n"
          ],
          "name": "stdout"
        }
      ]
    },
    {
      "cell_type": "code",
      "metadata": {
        "colab": {
          "base_uri": "https://localhost:8080/",
          "height": 417
        },
        "id": "OrSBcuCIDTQF",
        "outputId": "aa743e96-510c-4d1f-94d3-ec90ab21624e"
      },
      "source": [
        "result_df.toPandas().plot.bar(x='medage',figsize=(14, 6))"
      ],
      "execution_count": 13,
      "outputs": [
        {
          "output_type": "execute_result",
          "data": {
            "text/plain": [
              "<matplotlib.axes._subplots.AxesSubplot at 0x7f69255ccc50>"
            ]
          },
          "metadata": {
            "tags": []
          },
          "execution_count": 13
        },
        {
          "output_type": "display_data",
          "data": {
            "image/png": "[encoded data removed]",
            "text/plain": [
              "<Figure size 1008x432 with 1 Axes>"
            ]
          },
          "metadata": {
            "tags": [],
            "needs_background": "light"
          }
        }
      ]
    },
    {
      "cell_type": "markdown",
      "metadata": {
        "id": "lpofVNTFDfY5"
      },
      "source": [
        "Most of the residents are either in their youth or they settle here during their senior years. Some data are showing median age < 10 which seems to be out of place.\n",
        "\n"
      ]
    },
    {
      "cell_type": "markdown",
      "metadata": {
        "id": "ix4YST8QDmO_"
      },
      "source": [
        "Summary Statistics:\n",
        "---\n",
        "\n",
        "Spark DataFrames include some built-in functions for statistical processing. The describe() function performs summary statistics calculations on all numeric columns and returns them as a DataFrame."
      ]
    },
    {
      "cell_type": "code",
      "metadata": {
        "colab": {
          "base_uri": "https://localhost:8080/"
        },
        "id": "K6eTIxU2DeEQ",
        "outputId": "81669cad-9fe8-4958-ceab-5cc59c83cd90"
      },
      "source": [
        "import pyspark.sql.functions as F\n",
        "from pyspark.sql.functions import udf, col\n",
        "(housing_df.describe().select(\n",
        "                    \"summary\",\n",
        "                    F.round(\"medage\", 4).alias(\"medage\"),\n",
        "                    F.round(\"totrooms\", 4).alias(\"totrooms\"),\n",
        "                    F.round(\"totbdrms\", 4).alias(\"totbdrms\"),\n",
        "                    F.round(\"pop\", 4).alias(\"pop\"),\n",
        "                    F.round(\"houshlds\", 4).alias(\"houshlds\"),\n",
        "                    F.round(\"medinc\", 4).alias(\"medinc\"),\n",
        "                    F.round(\"medhv\", 4).alias(\"medhv\"))\n",
        "                    .show())"
      ],
      "execution_count": 14,
      "outputs": [
        {
          "output_type": "stream",
          "text": [
            "+-------+-------+---------+--------+---------+--------+-------+-----------+\n",
            "|summary| medage| totrooms|totbdrms|      pop|houshlds| medinc|      medhv|\n",
            "+-------+-------+---------+--------+---------+--------+-------+-----------+\n",
            "|  count|20640.0|  20640.0| 20640.0|  20640.0| 20640.0|20640.0|    20640.0|\n",
            "|   mean|28.6395|2635.7631| 537.898|1425.4767|499.5397| 3.8707|206855.8169|\n",
            "| stddev|12.5856|2181.6153|421.2479|1132.4621|382.3298| 1.8998|115395.6159|\n",
            "|    min|    1.0|      2.0|     1.0|      3.0|     1.0| 0.4999|    14999.0|\n",
            "|    max|   52.0|  39320.0|  6445.0|  35682.0|  6082.0|15.0001|   500001.0|\n",
            "+-------+-------+---------+--------+---------+--------+-------+-----------+\n",
            "\n"
          ],
          "name": "stdout"
        }
      ]
    },
    {
      "cell_type": "markdown",
      "metadata": {
        "id": "Bs5pB534IGF_"
      },
      "source": [
        "Looking at the minimum and maximum values of all the (numerical) attributes. We see that multiple attributes have a wide range of values: we will need to normalize the dataset."
      ]
    },
    {
      "cell_type": "markdown",
      "metadata": {
        "id": "GvaWU6AFIM3i"
      },
      "source": [
        "Correlation\n",
        "---\n",
        "\n",
        "Lets try to find out what's the correlation among various columns"
      ]
    },
    {
      "cell_type": "code",
      "metadata": {
        "colab": {
          "base_uri": "https://localhost:8080/"
        },
        "id": "WVJYf0HAHCcQ",
        "outputId": "3427d89d-ce41-4194-ed3f-54bd41f15e30"
      },
      "source": [
        "from pyspark.ml.stat import Correlation\n",
        "columns = housing_df.columns\n",
        "columns.remove(\"medhv\")\n",
        "[(f'{column}<->medhv', housing_df.stat.corr(column,\"medhv\")) \\\n",
        " for column in columns]"
      ],
      "execution_count": 34,
      "outputs": [
        {
          "output_type": "execute_result",
          "data": {
            "text/plain": [
              "[('long<->medhv', -0.04596662870932146),\n",
              " ('lat<->medhv', -0.14416027126511027),\n",
              " ('medage<->medhv', 0.1056234124932107),\n",
              " ('totrooms<->medhv', 0.13415311380656275),\n",
              " ('totbdrms<->medhv', 0.05059378881206679),\n",
              " ('pop<->medhv', -0.024649678888894865),\n",
              " ('houshlds<->medhv', 0.0658426505700564),\n",
              " ('medinc<->medhv', 0.688075207464692)]"
            ]
          },
          "metadata": {
            "tags": []
          },
          "execution_count": 34
        }
      ]
    },
    {
      "cell_type": "code",
      "metadata": {
        "id": "z5_GWzONHTas"
      },
      "source": [
        "import matplotlib.pyplot as plt\n",
        "import matplotlib\n",
        "def plot_corr_matrix(correlations,attr,fig_no):\n",
        "    fig=plt.figure(figsize=(18,10))\n",
        "    ax=fig.add_subplot(1,1,1)\n",
        "    ax.set_title(\"Correlation Matrix for Specified Attributes\")\n",
        "    ax.set_xticklabels(['']+attr)\n",
        "    ax.set_yticklabels(['']+attr)\n",
        "    cax=ax.matshow(correlations,cmap=matplotlib.cm.hot_r)\n",
        "    fig.colorbar(cax)\n",
        "    plt.rcParams.update({'font.size': 10})\n",
        "    plt.show()"
      ],
      "execution_count": 32,
      "outputs": []
    },
    {
      "cell_type": "code",
      "metadata": {
        "colab": {
          "base_uri": "https://localhost:8080/",
          "height": 621
        },
        "id": "29uNrL3fHVS_",
        "outputId": "6e1e67ff-f749-4701-e598-27795611e9b5"
      },
      "source": [
        "from pyspark.ml.feature import VectorAssembler\n",
        "from pyspark.ml.stat import Correlation\n",
        "from pyspark.mllib.stat import Statistics\n",
        "vector_col = \"corr_features\"\n",
        "assembler = VectorAssembler(inputCols=housing_df.columns, \n",
        "                            outputCol=vector_col)\n",
        "myGraph_vector = assembler.transform(housing_df).select(vector_col)\n",
        "matrix = Correlation.corr(myGraph_vector, vector_col).collect()[0][0]\n",
        "corrmatrix = matrix.toArray().tolist()\n",
        "plot_corr_matrix(corrmatrix, housing_df.columns, 200)"
      ],
      "execution_count": 33,
      "outputs": [
        {
          "output_type": "display_data",
          "data": {
            "image/png": "[encoded data removed]",
            "text/plain": [
              "<Figure size 1296x720 with 2 Axes>"
            ]
          },
          "metadata": {
            "tags": [],
            "needs_background": "light"
          }
        }
      ]
    },
    {
      "cell_type": "markdown",
      "metadata": {
        "id": "GPoGDu0cIZCU"
      },
      "source": [
        "As seen from the `Correlation` stat helper and above heat map, we can conclude\n",
        "* `lat`, `long` have no correlation with `medhv`\n",
        "* `medinc` has strong correlation with `medhv`\n",
        "* `medage` doesn't have strong correlation with most of the other columns"
      ]
    },
    {
      "cell_type": "markdown",
      "metadata": {
        "id": "huJ6XvQmD8VM"
      },
      "source": [
        "Data Preprocessing\n",
        "---\n",
        "\n",
        "With all this information that we gathered from our small exploratory data analysis, we know enough to preprocess our data to feed it to the model.\n",
        "\n",
        "* we shouldn't care about missing values; all null values have been excluded from the data set.\n",
        "\n",
        "* We should probably standardize our data, as we have seen that the range of minimum and maximum values is quite big.\n",
        "\n",
        "* There are possibly some additional attributes that we could add, such as a feature that registers the number of bedrooms per room or the rooms per household.\n",
        "\n",
        "* Our dependent variable is also quite big; To make our life easier, we'll have to adjust the values slightly."
      ]
    },
    {
      "cell_type": "markdown",
      "metadata": {
        "id": "6pIjYH23ERLQ"
      },
      "source": [
        "Preprocessing The Target Values\n",
        "----\n",
        "\n",
        "First, let's start with the `medianHouseValue`, our dependent variable. \n",
        "\n",
        "To facilitate our working with the target values, we will express the house values in units of 100,000. That means that a target such as 452600.000000 should become 4.526"
      ]
    },
    {
      "cell_type": "code",
      "metadata": {
        "colab": {
          "base_uri": "https://localhost:8080/"
        },
        "id": "tIf2K7DVDrMZ",
        "outputId": "fd773a01-0050-4362-fcaf-6c4905003a28"
      },
      "source": [
        "housing_df_1 = housing_df.withColumn(\"medhv\", col(\"medhv\")/100000)\n",
        "housing_df_1.show(2)"
      ],
      "execution_count": 15,
      "outputs": [
        {
          "output_type": "stream",
          "text": [
            "+-------+-----+------+--------+--------+------+--------+------+-----+\n",
            "|   long|  lat|medage|totrooms|totbdrms|   pop|houshlds|medinc|medhv|\n",
            "+-------+-----+------+--------+--------+------+--------+------+-----+\n",
            "|-122.23|37.88|  41.0|   880.0|   129.0| 322.0|   126.0|8.3252|4.526|\n",
            "|-122.22|37.86|  21.0|  7099.0|  1106.0|2401.0|  1138.0|8.3014|3.585|\n",
            "+-------+-----+------+--------+--------+------+--------+------+-----+\n",
            "only showing top 2 rows\n",
            "\n"
          ],
          "name": "stdout"
        }
      ]
    },
    {
      "cell_type": "markdown",
      "metadata": {
        "id": "r6gE9BwhEc7q"
      },
      "source": [
        "We can clearly see that the values have been adjusted correctly when we look at the result of the show() method"
      ]
    },
    {
      "cell_type": "markdown",
      "metadata": {
        "id": "icppxTBuEn5V"
      },
      "source": [
        "Feature Engineering\n",
        "---\n",
        "\n",
        "Now that we have adjusted the values in medianHouseValue, we will now add the following columns to the data set:\n",
        "\n",
        "* `rmsperhh` -- **Rooms per household** which refers to the number of rooms in households per block group\n",
        "* `popperhh` -- **Population per household**, which basically gives us an indication of how many people live in households per block group\n",
        "* `bdrmsperrm` -- **Bedrooms per room** which will give us an idea about how many rooms are bedrooms per block group;\n",
        "\n",
        "As we're working with DataFrames, we can best use the select() method to select the columns that we're going to be working with, namely totalRooms, households, and population. \n",
        "\n",
        "Additionally, we have to indicate that we're working with columns by adding the col() function to our code. Otherwise, we won't be able to do element-wise operations like the division that we have in mind for these three variables:"
      ]
    },
    {
      "cell_type": "code",
      "metadata": {
        "colab": {
          "base_uri": "https://localhost:8080/"
        },
        "id": "qnleyzWdEbs_",
        "outputId": "ce0f1fac-3c3d-4188-9548-354721435f48"
      },
      "source": [
        "housing_df_1 = (housing_df_1.withColumn(\"rmsperhh\", F.round(col(\"totrooms\")/col(\"houshlds\"), 2))\n",
        "                       .withColumn(\"popperhh\", F.round(col(\"pop\")/col(\"houshlds\"), 2))\n",
        "                       .withColumn(\"bdrmsperrm\", F.round(col(\"totbdrms\")/col(\"totrooms\"), 2)))\n",
        "housing_df_1.show(10, truncate=False)"
      ],
      "execution_count": 16,
      "outputs": [
        {
          "output_type": "stream",
          "text": [
            "+-------+-----+------+--------+--------+------+--------+------+-----+--------+--------+----------+\n",
            "|long   |lat  |medage|totrooms|totbdrms|pop   |houshlds|medinc|medhv|rmsperhh|popperhh|bdrmsperrm|\n",
            "+-------+-----+------+--------+--------+------+--------+------+-----+--------+--------+----------+\n",
            "|-122.23|37.88|41.0  |880.0   |129.0   |322.0 |126.0   |8.3252|4.526|6.98    |2.56    |0.15      |\n",
            "|-122.22|37.86|21.0  |7099.0  |1106.0  |2401.0|1138.0  |8.3014|3.585|6.24    |2.11    |0.16      |\n",
            "|-122.24|37.85|52.0  |1467.0  |190.0   |496.0 |177.0   |7.2574|3.521|8.29    |2.8     |0.13      |\n",
            "|-122.25|37.85|52.0  |1274.0  |235.0   |558.0 |219.0   |5.6431|3.413|5.82    |2.55    |0.18      |\n",
            "|-122.25|37.85|52.0  |1627.0  |280.0   |565.0 |259.0   |3.8462|3.422|6.28    |2.18    |0.17      |\n",
            "|-122.25|37.85|52.0  |919.0   |213.0   |413.0 |193.0   |4.0368|2.697|4.76    |2.14    |0.23      |\n",
            "|-122.25|37.84|52.0  |2535.0  |489.0   |1094.0|514.0   |3.6591|2.992|4.93    |2.13    |0.19      |\n",
            "|-122.25|37.84|52.0  |3104.0  |687.0   |1157.0|647.0   |3.12  |2.414|4.8     |1.79    |0.22      |\n",
            "|-122.26|37.84|42.0  |2555.0  |665.0   |1206.0|595.0   |2.0804|2.267|4.29    |2.03    |0.26      |\n",
            "|-122.25|37.84|52.0  |3549.0  |707.0   |1551.0|714.0   |3.6912|2.611|4.97    |2.17    |0.2       |\n",
            "+-------+-----+------+--------+--------+------+--------+------+-----+--------+--------+----------+\n",
            "only showing top 10 rows\n",
            "\n"
          ],
          "name": "stdout"
        }
      ]
    },
    {
      "cell_type": "markdown",
      "metadata": {
        "id": "Qboglw1lFO1F"
      },
      "source": [
        "We can see that, for the first row, there are about 6.98 `rmsperhh`, the households in the block group consist of about 2.5 `popperhh` and the amount of bedrooms is quite low with 0.14 `bdrmsperrm`:\n",
        "\n",
        "Since we don't want to necessarily standardize our target values, we'll want to make sure to isolate those in our data set. Note also that this is the time to leave out variables that we might not want to consider in our analysis. In this case, let's leave out variables such as `longitude`, `latitude`, `housingMedianAge` and `totalRooms`.\n",
        "\n",
        "In this case, we will use the select() method and passing the column names in the order that is more appropriate. In this case, the target variable `medianHouseValue` is put first, so that it won't be affected by the standardization."
      ]
    },
    {
      "cell_type": "code",
      "metadata": {
        "id": "G2d21RIFEvjd"
      },
      "source": [
        "# Re-order and select columns\n",
        "housing_df_1 = housing_df_1.select(\"medhv\", \n",
        "                              \"totbdrms\", \n",
        "                              \"pop\", \n",
        "                              \"houshlds\", \n",
        "                              \"medinc\", \n",
        "                              \"rmsperhh\", \n",
        "                              \"popperhh\", \n",
        "                              \"bdrmsperrm\")"
      ],
      "execution_count": 17,
      "outputs": []
    },
    {
      "cell_type": "markdown",
      "metadata": {
        "id": "dJKrM3vdFob_"
      },
      "source": [
        "Feature Extraction\n",
        "---\n",
        "\n",
        "Now that we have re-ordered the data, we're ready to normalize the data. We will choose the features to be normalized"
      ]
    },
    {
      "cell_type": "markdown",
      "metadata": {
        "id": "cAKK4X_TFycM"
      },
      "source": [
        "Use a VectorAssembler to put features into a feature vector column"
      ]
    },
    {
      "cell_type": "code",
      "metadata": {
        "colab": {
          "base_uri": "https://localhost:8080/"
        },
        "id": "Q2U84MI9F0yg",
        "outputId": "b47c6a07-42ac-4c49-e686-ba558d95a2bf"
      },
      "source": [
        "from pyspark.ml.feature import VectorAssembler, StandardScaler\n",
        "featureCols = [\"totbdrms\", \"pop\", \"houshlds\", \"medinc\", \"rmsperhh\", \"popperhh\", \"bdrmsperrm\"]\n",
        "# put features into a feature vector column\n",
        "assembler = VectorAssembler(inputCols=featureCols, outputCol=\"features\") \n",
        "assembled_df = assembler.transform(housing_df_1)\n",
        "assembled_df.show(10, truncate=False)"
      ],
      "execution_count": 21,
      "outputs": [
        {
          "output_type": "stream",
          "text": [
            "+-----+--------+------+--------+------+--------+--------+----------+-------------------------------------------------------+\n",
            "|medhv|totbdrms|pop   |houshlds|medinc|rmsperhh|popperhh|bdrmsperrm|features                                               |\n",
            "+-----+--------+------+--------+------+--------+--------+----------+-------------------------------------------------------+\n",
            "|4.526|129.0   |322.0 |126.0   |8.3252|6.98    |2.56    |0.15      |[129.0,322.0,126.0,8.325200080871582,6.98,2.56,0.15]   |\n",
            "|3.585|1106.0  |2401.0|1138.0  |8.3014|6.24    |2.11    |0.16      |[1106.0,2401.0,1138.0,8.301400184631348,6.24,2.11,0.16]|\n",
            "|3.521|190.0   |496.0 |177.0   |7.2574|8.29    |2.8     |0.13      |[190.0,496.0,177.0,7.257400035858154,8.29,2.8,0.13]    |\n",
            "|3.413|235.0   |558.0 |219.0   |5.6431|5.82    |2.55    |0.18      |[235.0,558.0,219.0,5.643099784851074,5.82,2.55,0.18]   |\n",
            "|3.422|280.0   |565.0 |259.0   |3.8462|6.28    |2.18    |0.17      |[280.0,565.0,259.0,3.8461999893188477,6.28,2.18,0.17]  |\n",
            "|2.697|213.0   |413.0 |193.0   |4.0368|4.76    |2.14    |0.23      |[213.0,413.0,193.0,4.036799907684326,4.76,2.14,0.23]   |\n",
            "|2.992|489.0   |1094.0|514.0   |3.6591|4.93    |2.13    |0.19      |[489.0,1094.0,514.0,3.65910005569458,4.93,2.13,0.19]   |\n",
            "|2.414|687.0   |1157.0|647.0   |3.12  |4.8     |1.79    |0.22      |[687.0,1157.0,647.0,3.119999885559082,4.8,1.79,0.22]   |\n",
            "|2.267|665.0   |1206.0|595.0   |2.0804|4.29    |2.03    |0.26      |[665.0,1206.0,595.0,2.080399990081787,4.29,2.03,0.26]  |\n",
            "|2.611|707.0   |1551.0|714.0   |3.6912|4.97    |2.17    |0.2       |[707.0,1551.0,714.0,3.691200017929077,4.97,2.17,0.2]   |\n",
            "+-----+--------+------+--------+------+--------+--------+----------+-------------------------------------------------------+\n",
            "only showing top 10 rows\n",
            "\n"
          ],
          "name": "stdout"
        }
      ]
    },
    {
      "cell_type": "markdown",
      "metadata": {
        "id": "E15qiLrJGPH4"
      },
      "source": [
        "Standardization\n",
        "---\n",
        "Next, we can finally scale the data using StandardScaler. The input columns are the features, and the output column with the rescaled that will be included in the scaled_df will be named \"features_scaled\""
      ]
    },
    {
      "cell_type": "code",
      "metadata": {
        "colab": {
          "base_uri": "https://localhost:8080/"
        },
        "id": "8WQ90ETIF7pm",
        "outputId": "385b415b-49d2-41ba-99dc-01f26bcfa79f"
      },
      "source": [
        "standardScaler = StandardScaler(inputCol=\"features\", outputCol=\"features_scaled\")\n",
        "scaled_df = standardScaler.fit(assembled_df).transform(assembled_df)\n",
        "scaled_df.select(\"features\", \"features_scaled\").show(10, truncate=False)"
      ],
      "execution_count": 22,
      "outputs": [
        {
          "output_type": "stream",
          "text": [
            "+-------------------------------------------------------+--------------------------------------------------------------------------------------------------------------------------------------+\n",
            "|features                                               |features_scaled                                                                                                                       |\n",
            "+-------------------------------------------------------+--------------------------------------------------------------------------------------------------------------------------------------+\n",
            "|[129.0,322.0,126.0,8.325200080871582,6.98,2.56,0.15]   |[0.30623297630686513,0.2843362208866199,0.3295584480852433,4.38209543579743,2.8211223886115664,0.24648542140099877,2.5828740130262697]|\n",
            "|[1106.0,2401.0,1138.0,8.301400184631348,6.24,2.11,0.16]|[2.6255323394991694,2.1201592122632746,2.9764882057222772,4.36956799913841,2.522034914747303,0.20315790592035446,2.755065613894688]   |\n",
            "|[190.0,496.0,177.0,7.257400035858154,8.29,2.8,0.13]    |[0.451040817816313,0.4379837439744208,0.4629511532626037,3.820042673324032,3.3505880518037077,0.2695934296573424,2.238490811289434]   |\n",
            "|[235.0,558.0,219.0,5.643099784851074,5.82,2.55,0.18]   |[0.557866274667545,0.4927317119712234,0.5728039692910182,2.970331231769803,2.3522825647162344,0.2455225877236511,3.099448815631524]   |\n",
            "|[280.0,565.0,259.0,3.8461999893188477,6.28,2.18,0.17]  |[0.664691731518777,0.4989129341644108,0.6774256988418891,2.024505748166202,2.538201805226452,0.20989774166178804,2.9272572147631064]  |\n",
            "|[213.0,413.0,193.0,4.036799907684326,4.76,2.14,0.23]   |[0.5056404957624983,0.364692109398056,0.5047998450829521,2.124830908428931,1.9238599670187757,0.20604640695239743,3.960406819973614]  |\n",
            "|[489.0,1094.0,514.0,3.65910005569458,4.93,2.13,0.19]   |[1.1608366311167213,0.9660367256210006,1.344389224728691,1.9260228580003875,1.9925692515551605,0.20508357327504975,3.271640416499942] |\n",
            "|[687.0,1157.0,647.0,3.119999885559082,4.8,1.79,0.22]   |[1.6308686412621423,1.021667725359687,1.6922564754853369,1.6422593001231023,1.9400268574979251,0.1723472282452296,3.788215219105196]  |\n",
            "|[665.0,1206.0,595.0,2.080399990081787,4.29,2.03,0.26]  |[1.5786428623570954,1.0649362807119989,1.5562482270692046,1.0950501144251168,1.7338990038887707,0.19545523650157323,4.476981622578868]|\n",
            "|[707.0,1551.0,714.0,3.691200017929077,4.97,2.17,0.2]   |[1.678346622084912,1.3695822316619488,1.8674978724830456,1.9429191603871925,2.00873614203431,0.20893490798444037,3.44383201736836]    |\n",
            "+-------------------------------------------------------+--------------------------------------------------------------------------------------------------------------------------------------+\n",
            "only showing top 10 rows\n",
            "\n"
          ],
          "name": "stdout"
        }
      ]
    },
    {
      "cell_type": "markdown",
      "metadata": {
        "id": "gn6LE4LhGdxh"
      },
      "source": [
        "Building A Machine Learning Model With Spark ML\n",
        "---\n",
        "With all the preprocessing done, it's finally time to start building our Linear Regression model! Just like always, we first need to split the data into training and test sets. Luckily, this is no issue with the randomSplit() method:"
      ]
    },
    {
      "cell_type": "code",
      "metadata": {
        "id": "CvfPgyoUGlmB"
      },
      "source": [
        "import numpy as np\n",
        "rnd_seed=23\n",
        "np.random.seed=rnd_seed\n",
        "np.random.set_state=rnd_seed"
      ],
      "execution_count": 23,
      "outputs": []
    },
    {
      "cell_type": "code",
      "metadata": {
        "id": "z0k-1GHuF6eq"
      },
      "source": [
        "train_data, test_data = scaled_df.randomSplit([.8,.2], seed=rnd_seed)"
      ],
      "execution_count": 24,
      "outputs": []
    },
    {
      "cell_type": "code",
      "metadata": {
        "id": "QQNXcfWQGmE9"
      },
      "source": [
        "from pyspark.ml.regression import LinearRegression\n",
        "from pyspark.mllib.evaluation import RegressionMetrics\n",
        "\n",
        "from pyspark.ml.tuning import ParamGridBuilder, CrossValidator, CrossValidatorModel\n",
        "from pyspark.ml.evaluation import RegressionEvaluator"
      ],
      "execution_count": 25,
      "outputs": []
    },
    {
      "cell_type": "markdown",
      "metadata": {
        "id": "HNgScj8_JGt-"
      },
      "source": [
        "Create an ElasticNet model:\n",
        "---\n",
        "ElasticNet is a linear regression model trained with L1 and L2 prior as regularizer. This combination allows for learning a sparse model where few of the weights are non-zero like Lasso, while still maintaining the regularization properties of Ridge. We control the convex combination of L1 and L2 using the l1_ratio parameter.\n",
        "\n",
        "Elastic-net is useful when there are multiple features which are correlated with one another. Lasso is likely to pick one of these at random, while elastic-net is likely to pick both.\n",
        "\n",
        "A practical advantage of trading-off between Lasso and Ridge is it allows Elastic-Net to inherit some of Ridge’s stability under rotation."
      ]
    },
    {
      "cell_type": "code",
      "metadata": {
        "id": "csZ51A9iGoot"
      },
      "source": [
        "# Initialize `lr`\n",
        "lr = (LinearRegression(featuresCol='features_scaled', labelCol=\"medhv\", predictionCol='predmedhv', \n",
        "                               maxIter=10, regParam=0.3, elasticNetParam=0.8, standardization=False))"
      ],
      "execution_count": 35,
      "outputs": []
    },
    {
      "cell_type": "code",
      "metadata": {
        "id": "BBfpqxjsJLkB"
      },
      "source": [
        "# Fit the data to the model\n",
        "linearModel = lr.fit(train_data)"
      ],
      "execution_count": 36,
      "outputs": []
    },
    {
      "cell_type": "markdown",
      "metadata": {
        "id": "crV1A0xvJWrp"
      },
      "source": [
        "Evaluating the Model\n",
        "---\n",
        "With our model in place, we can generate predictions for our test data: use the transform() method to predict the labels for our test_data. Then, we can use RDD operations to extract the predictions as well as the true labels from the DataFrame.\n",
        "\n"
      ]
    },
    {
      "cell_type": "markdown",
      "metadata": {
        "id": "0nTB-wAZJllP"
      },
      "source": [
        "**Inspect the Model Co-efficients**\n",
        "\n"
      ]
    },
    {
      "cell_type": "code",
      "metadata": {
        "colab": {
          "base_uri": "https://localhost:8080/"
        },
        "id": "hO03-k9cJS7i",
        "outputId": "2ef320b9-a347-4a50-88a4-ee56ff0082f3"
      },
      "source": [
        "linearModel.coefficients"
      ],
      "execution_count": 37,
      "outputs": [
        {
          "output_type": "execute_result",
          "data": {
            "text/plain": [
              "DenseVector([0.0, 0.0, 0.0, 0.5262, 0.0, 0.0, 0.0])"
            ]
          },
          "metadata": {
            "tags": []
          },
          "execution_count": 37
        }
      ]
    },
    {
      "cell_type": "code",
      "metadata": {
        "colab": {
          "base_uri": "https://localhost:8080/",
          "height": 297
        },
        "id": "njiFaXUwJzXK",
        "outputId": "3b584930-145f-4505-dfa6-b2dd69c71a2a"
      },
      "source": [
        "import pandas as pd\n",
        "coeff_df = pd.DataFrame({\"Feature\": [\"Intercept\"] + featureCols, \\\n",
        "                         \"Co-efficients\": np\\\n",
        "                         .insert(\\\n",
        "                                 linearModel.coefficients.toArray(), \\\n",
        "                                 0, \\\n",
        "                                 linearModel.intercept)})\n",
        "coeff_df = coeff_df[[\"Feature\", \"Co-efficients\"]]\n",
        "coeff_df"
      ],
      "execution_count": 43,
      "outputs": [
        {
          "output_type": "execute_result",
          "data": {
            "text/html": [
              "<div>\n",
              "<style scoped>\n",
              "    .dataframe tbody tr th:only-of-type {\n",
              "        vertical-align: middle;\n",
              "    }\n",
              "\n",
              "    .dataframe tbody tr th {\n",
              "        vertical-align: top;\n",
              "    }\n",
              "\n",
              "    .dataframe thead th {\n",
              "        text-align: right;\n",
              "    }\n",
              "</style>\n",
              "<table border=\"1\" class=\"dataframe\">\n",
              "  <thead>\n",
              "    <tr style=\"text-align: right;\">\n",
              "      <th></th>\n",
              "      <th>Feature</th>\n",
              "      <th>Co-efficients</th>\n",
              "    </tr>\n",
              "  </thead>\n",
              "  <tbody>\n",
              "    <tr>\n",
              "      <th>0</th>\n",
              "      <td>Intercept</td>\n",
              "      <td>1.001383</td>\n",
              "    </tr>\n",
              "    <tr>\n",
              "      <th>1</th>\n",
              "      <td>totbdrms</td>\n",
              "      <td>0.000000</td>\n",
              "    </tr>\n",
              "    <tr>\n",
              "      <th>2</th>\n",
              "      <td>pop</td>\n",
              "      <td>0.000000</td>\n",
              "    </tr>\n",
              "    <tr>\n",
              "      <th>3</th>\n",
              "      <td>houshlds</td>\n",
              "      <td>0.000000</td>\n",
              "    </tr>\n",
              "    <tr>\n",
              "      <th>4</th>\n",
              "      <td>medinc</td>\n",
              "      <td>0.526157</td>\n",
              "    </tr>\n",
              "    <tr>\n",
              "      <th>5</th>\n",
              "      <td>rmsperhh</td>\n",
              "      <td>0.000000</td>\n",
              "    </tr>\n",
              "    <tr>\n",
              "      <th>6</th>\n",
              "      <td>popperhh</td>\n",
              "      <td>0.000000</td>\n",
              "    </tr>\n",
              "    <tr>\n",
              "      <th>7</th>\n",
              "      <td>bdrmsperrm</td>\n",
              "      <td>0.000000</td>\n",
              "    </tr>\n",
              "  </tbody>\n",
              "</table>\n",
              "</div>"
            ],
            "text/plain": [
              "      Feature  Co-efficients\n",
              "0   Intercept       1.001383\n",
              "1    totbdrms       0.000000\n",
              "2         pop       0.000000\n",
              "3    houshlds       0.000000\n",
              "4      medinc       0.526157\n",
              "5    rmsperhh       0.000000\n",
              "6    popperhh       0.000000\n",
              "7  bdrmsperrm       0.000000"
            ]
          },
          "metadata": {
            "tags": []
          },
          "execution_count": 43
        }
      ]
    },
    {
      "cell_type": "markdown",
      "metadata": {
        "id": "Wr6wFBYGJ9lD"
      },
      "source": [
        "### Generating Predictions"
      ]
    },
    {
      "cell_type": "code",
      "metadata": {
        "colab": {
          "base_uri": "https://localhost:8080/"
        },
        "id": "t1nuGFZ8J4Zg",
        "outputId": "593e803b-5372-4e11-fc2d-ccedaf649fff"
      },
      "source": [
        "# Generate predictions\n",
        "predictions = linearModel.transform(test_data)\n",
        "# Extract the predictions and the \"known\" correct labels\n",
        "predandlabels = predictions.select(\"predmedhv\", \"medhv\")\n",
        "predandlabels.show()"
      ],
      "execution_count": 44,
      "outputs": [
        {
          "output_type": "stream",
          "text": [
            "+------------------+-------+\n",
            "|         predmedhv|  medhv|\n",
            "+------------------+-------+\n",
            "|  1.14982901467337|0.14999|\n",
            "|1.3037582901805782|  0.225|\n",
            "| 1.752972574315186|  0.225|\n",
            "|1.6094289295308724|  0.269|\n",
            "|1.5956645319495768|  0.344|\n",
            "|1.2917940087238426|  0.367|\n",
            "|1.8668547795751218|  0.375|\n",
            "| 1.369423339785637|  0.394|\n",
            "|1.5305533439120043|  0.398|\n",
            "|1.5715143715849273|  0.409|\n",
            "|1.3261913014043998|  0.417|\n",
            "| 1.229923204690587|  0.425|\n",
            "|1.4841640700933143|  0.425|\n",
            "|1.3510338217435218|   0.43|\n",
            "|1.2619110212709588|  0.436|\n",
            "|1.3350814464678744|   0.44|\n",
            "|1.4832778453641755|   0.44|\n",
            "|1.4337313361080328|  0.444|\n",
            "|1.3691187093204966|  0.445|\n",
            "|  1.47521855868216|  0.446|\n",
            "+------------------+-------+\n",
            "only showing top 20 rows\n",
            "\n"
          ],
          "name": "stdout"
        }
      ]
    },
    {
      "cell_type": "markdown",
      "metadata": {
        "id": "iAgKlQkIKT6K"
      },
      "source": [
        "#### Inspect the Metrics\n",
        "---\n",
        "Looking at predicted values is one thing, but another and better thing is looking at some metrics to get a better idea of how good your model actually is.\n",
        "\n",
        "Using the `LinearRegressionModel.summary attribute`\n",
        "\n",
        "Next, we can also use the summary attribute to pull up the `rootMeanSquaredError` and the `r2`."
      ]
    },
    {
      "cell_type": "code",
      "metadata": {
        "colab": {
          "base_uri": "https://localhost:8080/"
        },
        "id": "lP6yxnraKI24",
        "outputId": "eb030b92-0641-4258-85e1-628b4359bef6"
      },
      "source": [
        "print(\"RMSE: {0}\".format(linearModel.summary.rootMeanSquaredError))\n",
        "print(\"MAE: {0}\".format(linearModel.summary.meanAbsoluteError))\n",
        "print(\"R2: {0}\".format(linearModel.summary.r2))"
      ],
      "execution_count": 40,
      "outputs": [
        {
          "output_type": "stream",
          "text": [
            "RMSE: 0.8819852045268861\n",
            "MAE: 0.6782895319917991\n",
            "R2: 0.4180854895364573\n"
          ],
          "name": "stdout"
        }
      ]
    },
    {
      "cell_type": "markdown",
      "metadata": {
        "id": "THHKEIbJK-JQ"
      },
      "source": [
        "* The RMSE measures how much error there is between two datasets comparing a predicted value and an observed or known value. The smaller an RMSE value, the closer predicted and observed values are.\n",
        "\n",
        "* The R2 (\"R squared\") or the coefficient of determination is a measure that shows how close the data are to the fitted regression line. This score will always be between 0 and a 100% (or 0 to 1 in this case), where 0% indicates that the model explains none of the variability of the response data around its mean, and 100% indicates the opposite: it explains all the variability. That means that, in general, the higher the R-squared, the better the model fits our data.\n",
        "\n"
      ]
    },
    {
      "cell_type": "code",
      "metadata": {
        "colab": {
          "base_uri": "https://localhost:8080/"
        },
        "id": "PBnK3NHxKbS_",
        "outputId": "1519c6c2-ff8d-46a3-d0c2-8d113f062c7b"
      },
      "source": [
        "evaluator = RegressionEvaluator(predictionCol=\"predmedhv\", labelCol='medhv', \\\n",
        "                                metricName='rmse')\n",
        "print(\"RMSE: {0}\".format(evaluator.evaluate(predandlabels)))\n",
        "evaluator = RegressionEvaluator(predictionCol=\"predmedhv\", labelCol='medhv', \\\n",
        "                                metricName='mae')\n",
        "print(\"MAE: {0}\".format(evaluator.evaluate(predandlabels)))\n",
        "evaluator = RegressionEvaluator(predictionCol=\"predmedhv\", labelCol='medhv', \\\n",
        "                                metricName='r2')\n",
        "print(\"R2: {0}\".format(evaluator.evaluate(predandlabels)))"
      ],
      "execution_count": 42,
      "outputs": [
        {
          "output_type": "stream",
          "text": [
            "RMSE: 0.8677342923034236\n",
            "MAE: 0.6736097745764633\n",
            "R2: 0.42517112885139363\n"
          ],
          "name": "stdout"
        }
      ]
    },
    {
      "cell_type": "markdown",
      "metadata": {
        "id": "nrS4OF_3MOq1"
      },
      "source": [
        "Summary\n",
        "---\n",
        "\n",
        "From the above we can observe that the accuracy of the solution is around 42.5% which is not so great so LinearRegression might not be that suitable for the system"
      ]
    },
    {
      "cell_type": "code",
      "metadata": {
        "id": "-0iaomCHKmqE"
      },
      "source": [
        ""
      ],
      "execution_count": null,
      "outputs": []
    }
  ]
}
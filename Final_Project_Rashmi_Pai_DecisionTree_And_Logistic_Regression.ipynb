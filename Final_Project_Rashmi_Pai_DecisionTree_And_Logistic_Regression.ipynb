{
  "nbformat": 4,
  "nbformat_minor": 0,
  "metadata": {
    "colab": {
      "name": "Final Project Rashmi Pai DecisionTree And Logistic Regression",
      "provenance": [],
      "toc_visible": true,
      "authorship_tag": "ABX9TyO2HAzQfmQRHmq2Th01QL/N",
      "include_colab_link": true
    },
    "kernelspec": {
      "name": "python3",
      "display_name": "Python 3"
    },
    "language_info": {
      "name": "python"
    }
  },
  "cells": [
    {
      "cell_type": "markdown",
      "metadata": {
        "id": "view-in-github",
        "colab_type": "text"
      },
      "source": [
        "<a href=\"https://colab.research.google.com/github/rashmigpai/IntroToBigData/blob/main/Final_Project_Rashmi_Pai_DecisionTree_And_Logistic_Regression.ipynb\" target=\"_parent\"><img src=\"https://colab.research.google.com/assets/colab-badge.svg\" alt=\"Open In Colab\"/></a>"
      ]
    },
    {
      "cell_type": "markdown",
      "metadata": {
        "id": "sXqD4zBoRKUd"
      },
      "source": [
        "## Final Project Presentation\n",
        "---\n",
        "### Logistic Regression\n",
        "\n",
        "### Decision Tree"
      ]
    },
    {
      "cell_type": "code",
      "metadata": {
        "id": "BR0FfDKxQLRc"
      },
      "source": [
        "!pip install pyspark"
      ],
      "execution_count": null,
      "outputs": []
    },
    {
      "cell_type": "code",
      "metadata": {
        "id": "zJvzmVeyRz99"
      },
      "source": [
        "!apt-get update \n",
        "!apt-get install openjdk-8-jdk-headless -qq > /dev/null"
      ],
      "execution_count": null,
      "outputs": []
    },
    {
      "cell_type": "code",
      "metadata": {
        "id": "xcEkr-MWR1x5"
      },
      "source": [
        "# install spark (change the version number if needed)\n",
        "!wget -q https://archive.apache.org/dist/spark/spark-3.0.0/spark-3.0.0-bin-hadoop3.2.tgz\n",
        "\n",
        "# unzip the spark file to the current folder\n",
        "!tar xf spark-3.0.0-bin-hadoop3.2.tgz\n",
        "\n",
        "# set your spark folder to your system path environment. \n",
        "import os\n",
        "os.environ[\"JAVA_HOME\"] = \"/usr/lib/jvm/java-8-openjdk-amd64\"\n",
        "os.environ[\"SPARK_HOME\"] = \"/content/spark-3.0.0-bin-hadoop3.2\"\n",
        "\n",
        "# install findspark using pip\n",
        "!pip install -q findspark\n",
        "import findspark\n",
        "findspark.init()"
      ],
      "execution_count": null,
      "outputs": []
    },
    {
      "cell_type": "markdown",
      "metadata": {
        "id": "ZYGSAyk9RR8d"
      },
      "source": [
        "### STEP 1 Decision Tree Set up \n",
        "---\n",
        "\n",
        "Work on your project data to start preliminary analysis:\n",
        "\n",
        "Q3.Prepare data by using the following preprocessing transformation and tasks if required:\n",
        "\n",
        "a)Please standardize the data.\n",
        "\n",
        "b)Check for null values.\n",
        "\n",
        "c)Check for outliers.\n",
        "\n",
        "d)Conduct Feature selection or Feature Engineering."
      ]
    },
    {
      "cell_type": "markdown",
      "metadata": {
        "id": "XBWsFIz2mMPG"
      },
      "source": [
        "#### Goal\n",
        "---\n",
        "\n",
        "The dataset comes from the UCI Machine Learning repository, and it is related to direct marketing campaigns (phone calls) of a Portuguese banking institution. \n",
        "\n",
        "The classification goal is to predict whether the client will subscribe (1/0) to a term deposit (variable y)."
      ]
    },
    {
      "cell_type": "code",
      "metadata": {
        "id": "QU3EMpAnR3nt"
      },
      "source": [
        "from pyspark import SparkConf, SparkContext\n",
        "from pyspark.sql import SparkSession, SQLContext\n",
        "\n",
        "from pyspark.sql.types import *\n",
        "\n",
        "spark = SparkSession \\\n",
        ".builder \\\n",
        ".master(\"local\") \\\n",
        ".appName(\"Bank Data\") \\\n",
        ".config(\"spark.sql.shuffle.partitions\",\"1\") \\\n",
        ".getOrCreate()"
      ],
      "execution_count": null,
      "outputs": []
    },
    {
      "cell_type": "code",
      "metadata": {
        "colab": {
          "base_uri": "https://localhost:8080/"
        },
        "id": "yWeULkejR_km",
        "outputId": "973756bc-75cd-4e0f-eef1-029a49606a29"
      },
      "source": [
        "df = spark.read.csv('bank.csv', header = True, inferSchema = True)\n",
        "df.printSchema()"
      ],
      "execution_count": 131,
      "outputs": [
        {
          "output_type": "stream",
          "text": [
            "root\n",
            " |-- age: integer (nullable = true)\n",
            " |-- job: string (nullable = true)\n",
            " |-- marital: string (nullable = true)\n",
            " |-- education: string (nullable = true)\n",
            " |-- default: string (nullable = true)\n",
            " |-- balance: integer (nullable = true)\n",
            " |-- housing: string (nullable = true)\n",
            " |-- loan: string (nullable = true)\n",
            " |-- contact: string (nullable = true)\n",
            " |-- day: integer (nullable = true)\n",
            " |-- month: string (nullable = true)\n",
            " |-- duration: integer (nullable = true)\n",
            " |-- campaign: integer (nullable = true)\n",
            " |-- pdays: integer (nullable = true)\n",
            " |-- previous: integer (nullable = true)\n",
            " |-- poutcome: string (nullable = true)\n",
            " |-- deposit: string (nullable = true)\n",
            "\n"
          ],
          "name": "stdout"
        }
      ]
    },
    {
      "cell_type": "code",
      "metadata": {
        "colab": {
          "base_uri": "https://localhost:8080/"
        },
        "id": "iSpQ1wSMixut",
        "outputId": "ff47be09-ed99-4395-cd85-73d9402bdf52"
      },
      "source": [
        "df.show(20, truncate=False)"
      ],
      "execution_count": 132,
      "outputs": [
        {
          "output_type": "stream",
          "text": [
            "+---+-----------+--------+---------+-------+-------+-------+----+-------+---+-----+--------+--------+-----+--------+--------+-------+\n",
            "|age|job        |marital |education|default|balance|housing|loan|contact|day|month|duration|campaign|pdays|previous|poutcome|deposit|\n",
            "+---+-----------+--------+---------+-------+-------+-------+----+-------+---+-----+--------+--------+-----+--------+--------+-------+\n",
            "|59 |admin.     |married |secondary|no     |2343   |yes    |no  |unknown|5  |may  |1042    |1       |-1   |0       |unknown |yes    |\n",
            "|56 |admin.     |married |secondary|no     |45     |no     |no  |unknown|5  |may  |1467    |1       |-1   |0       |unknown |yes    |\n",
            "|41 |technician |married |secondary|no     |1270   |yes    |no  |unknown|5  |may  |1389    |1       |-1   |0       |unknown |yes    |\n",
            "|55 |services   |married |secondary|no     |2476   |yes    |no  |unknown|5  |may  |579     |1       |-1   |0       |unknown |yes    |\n",
            "|54 |admin.     |married |tertiary |no     |184    |no     |no  |unknown|5  |may  |673     |2       |-1   |0       |unknown |yes    |\n",
            "|42 |management |single  |tertiary |no     |0      |yes    |yes |unknown|5  |may  |562     |2       |-1   |0       |unknown |yes    |\n",
            "|56 |management |married |tertiary |no     |830    |yes    |yes |unknown|6  |may  |1201    |1       |-1   |0       |unknown |yes    |\n",
            "|60 |retired    |divorced|secondary|no     |545    |yes    |no  |unknown|6  |may  |1030    |1       |-1   |0       |unknown |yes    |\n",
            "|37 |technician |married |secondary|no     |1      |yes    |no  |unknown|6  |may  |608     |1       |-1   |0       |unknown |yes    |\n",
            "|28 |services   |single  |secondary|no     |5090   |yes    |no  |unknown|6  |may  |1297    |3       |-1   |0       |unknown |yes    |\n",
            "|38 |admin.     |single  |secondary|no     |100    |yes    |no  |unknown|7  |may  |786     |1       |-1   |0       |unknown |yes    |\n",
            "|30 |blue-collar|married |secondary|no     |309    |yes    |no  |unknown|7  |may  |1574    |2       |-1   |0       |unknown |yes    |\n",
            "|29 |management |married |tertiary |no     |199    |yes    |yes |unknown|7  |may  |1689    |4       |-1   |0       |unknown |yes    |\n",
            "|46 |blue-collar|single  |tertiary |no     |460    |yes    |no  |unknown|7  |may  |1102    |2       |-1   |0       |unknown |yes    |\n",
            "|31 |technician |single  |tertiary |no     |703    |yes    |no  |unknown|8  |may  |943     |2       |-1   |0       |unknown |yes    |\n",
            "|35 |management |divorced|tertiary |no     |3837   |yes    |no  |unknown|8  |may  |1084    |1       |-1   |0       |unknown |yes    |\n",
            "|32 |blue-collar|single  |primary  |no     |611    |yes    |no  |unknown|8  |may  |541     |3       |-1   |0       |unknown |yes    |\n",
            "|49 |services   |married |secondary|no     |-8     |yes    |no  |unknown|8  |may  |1119    |1       |-1   |0       |unknown |yes    |\n",
            "|41 |admin.     |married |secondary|no     |55     |yes    |no  |unknown|8  |may  |1120    |2       |-1   |0       |unknown |yes    |\n",
            "|49 |admin.     |divorced|secondary|no     |168    |yes    |yes |unknown|8  |may  |513     |1       |-1   |0       |unknown |yes    |\n",
            "+---+-----------+--------+---------+-------+-------+-------+----+-------+---+-----+--------+--------+-----+--------+--------+-------+\n",
            "only showing top 20 rows\n",
            "\n"
          ],
          "name": "stdout"
        }
      ]
    },
    {
      "cell_type": "markdown",
      "metadata": {
        "id": "h8d77wjxi3Z1"
      },
      "source": [
        "#### Summay of data\n",
        "---\n",
        "\n",
        "**Categorical Variables :**\n",
        "\n",
        "[1] job : admin,technician, services, management, retired, blue-collar, unemployed, entrepreneur, housemaid, unknown, self-employed, student\n",
        "\n",
        "[2] marital : married, single, divorced\n",
        "\n",
        "[3] education: secondary, tertiary, primary, unknown\n",
        "\n",
        "[4] default : yes, no\n",
        "\n",
        "[5] housing : yes, no\n",
        "\n",
        "[6] loan : yes, no\n",
        "\n",
        "[7] deposit : yes, no **(Dependent Variable)**\n",
        "\n",
        "[8] contact : unknown, cellular, telephone\n",
        "\n",
        "[9] month : jan, feb, mar, apr, may, jun, jul, aug, sep, oct, nov, dec\n",
        "\n",
        "[10] poutcome: unknown, other, failure, success\n",
        "\n",
        "**Numerical Variables:**\n",
        "[1] age\n",
        "\n",
        "[2] balance\n",
        "\n",
        "[3] day\n",
        "\n",
        "[4] duration\n",
        "\n",
        "[5] campaign\n",
        "\n",
        "[6] pdays\n",
        "\n",
        "[7] previous"
      ]
    },
    {
      "cell_type": "code",
      "metadata": {
        "colab": {
          "base_uri": "https://localhost:8080/"
        },
        "id": "7Zlq8fUoSQ-Y",
        "outputId": "06b31b2a-bfa7-43b9-8e12-2e913e5baf35"
      },
      "source": [
        "import pyspark.sql.functions as F\n",
        "from pyspark.sql.functions import udf, col\n",
        "df.describe().show()"
      ],
      "execution_count": 133,
      "outputs": [
        {
          "output_type": "stream",
          "text": [
            "+-------+------------------+-------+--------+---------+-------+------------------+-------+-----+--------+------------------+-----+------------------+------------------+------------------+------------------+--------+-------+\n",
            "|summary|               age|    job| marital|education|default|           balance|housing| loan| contact|               day|month|          duration|          campaign|             pdays|          previous|poutcome|deposit|\n",
            "+-------+------------------+-------+--------+---------+-------+------------------+-------+-----+--------+------------------+-----+------------------+------------------+------------------+------------------+--------+-------+\n",
            "|  count|             11162|  11162|   11162|    11162|  11162|             11162|  11162|11162|   11162|             11162|11162|             11162|             11162|             11162|             11162|   11162|  11162|\n",
            "|   mean|41.231947679627304|   null|    null|     null|   null|1528.5385235620856|   null| null|    null|15.658036194230425| null|371.99381831213043| 2.508421429851281| 51.33040673714388|0.8325568894463358|    null|   null|\n",
            "| stddev|11.913369192215518|   null|    null|     null|   null| 3225.413325946149|   null| null|    null| 8.420739541006462| null|347.12838571630687|2.7220771816614824|108.75828197197717| 2.292007218670508|    null|   null|\n",
            "|    min|                18| admin.|divorced|  primary|     no|             -6847|     no|   no|cellular|                 1|  apr|                 2|                 1|                -1|                 0| failure|     no|\n",
            "|    max|                95|unknown|  single|  unknown|    yes|             81204|    yes|  yes| unknown|                31|  sep|              3881|                63|               854|                58| unknown|    yes|\n",
            "+-------+------------------+-------+--------+---------+-------+------------------+-------+-----+--------+------------------+-----+------------------+------------------+------------------+------------------+--------+-------+\n",
            "\n"
          ],
          "name": "stdout"
        }
      ]
    },
    {
      "cell_type": "code",
      "metadata": {
        "id": "D8Ld59gkSICk"
      },
      "source": [
        "import pandas as pd\n",
        "import seaborn as sns\n",
        "import matplotlib.pyplot as plt\n",
        "import warnings\n",
        "warnings.filterwarnings('ignore')\n",
        "import numpy as np\n",
        "\n",
        "plt.style.use('fivethirtyeight')"
      ],
      "execution_count": 134,
      "outputs": []
    },
    {
      "cell_type": "markdown",
      "metadata": {
        "id": "4cZEZlwYnbb2"
      },
      "source": [
        "**d) Conduct Feature selection or Feature Engineering.**\n",
        "\n",
        "---"
      ]
    },
    {
      "cell_type": "code",
      "metadata": {
        "colab": {
          "base_uri": "https://localhost:8080/",
          "height": 111
        },
        "id": "63xNNkfeTfv4",
        "outputId": "00009f8e-13e8-4ef1-c365-10acd75d5761"
      },
      "source": [
        "df.groupby(\"deposit\").count().toPandas()"
      ],
      "execution_count": 136,
      "outputs": [
        {
          "output_type": "execute_result",
          "data": {
            "text/html": [
              "<div>\n",
              "<style scoped>\n",
              "    .dataframe tbody tr th:only-of-type {\n",
              "        vertical-align: middle;\n",
              "    }\n",
              "\n",
              "    .dataframe tbody tr th {\n",
              "        vertical-align: top;\n",
              "    }\n",
              "\n",
              "    .dataframe thead th {\n",
              "        text-align: right;\n",
              "    }\n",
              "</style>\n",
              "<table border=\"1\" class=\"dataframe\">\n",
              "  <thead>\n",
              "    <tr style=\"text-align: right;\">\n",
              "      <th></th>\n",
              "      <th>deposit</th>\n",
              "      <th>count</th>\n",
              "    </tr>\n",
              "  </thead>\n",
              "  <tbody>\n",
              "    <tr>\n",
              "      <th>0</th>\n",
              "      <td>yes</td>\n",
              "      <td>5289</td>\n",
              "    </tr>\n",
              "    <tr>\n",
              "      <th>1</th>\n",
              "      <td>no</td>\n",
              "      <td>5873</td>\n",
              "    </tr>\n",
              "  </tbody>\n",
              "</table>\n",
              "</div>"
            ],
            "text/plain": [
              "  deposit  count\n",
              "0     yes   5289\n",
              "1      no   5873"
            ]
          },
          "metadata": {
            "tags": []
          },
          "execution_count": 136
        }
      ]
    },
    {
      "cell_type": "code",
      "metadata": {
        "colab": {
          "base_uri": "https://localhost:8080/",
          "height": 421
        },
        "id": "YhHYQ_9ZbIgQ",
        "outputId": "5213cc92-5670-4d70-af8e-5077ee5207fc"
      },
      "source": [
        "df.groupby(\"job\").count().toPandas()"
      ],
      "execution_count": 139,
      "outputs": [
        {
          "output_type": "execute_result",
          "data": {
            "text/html": [
              "<div>\n",
              "<style scoped>\n",
              "    .dataframe tbody tr th:only-of-type {\n",
              "        vertical-align: middle;\n",
              "    }\n",
              "\n",
              "    .dataframe tbody tr th {\n",
              "        vertical-align: top;\n",
              "    }\n",
              "\n",
              "    .dataframe thead th {\n",
              "        text-align: right;\n",
              "    }\n",
              "</style>\n",
              "<table border=\"1\" class=\"dataframe\">\n",
              "  <thead>\n",
              "    <tr style=\"text-align: right;\">\n",
              "      <th></th>\n",
              "      <th>job</th>\n",
              "      <th>count</th>\n",
              "    </tr>\n",
              "  </thead>\n",
              "  <tbody>\n",
              "    <tr>\n",
              "      <th>0</th>\n",
              "      <td>admin.</td>\n",
              "      <td>1334</td>\n",
              "    </tr>\n",
              "    <tr>\n",
              "      <th>1</th>\n",
              "      <td>technician</td>\n",
              "      <td>1823</td>\n",
              "    </tr>\n",
              "    <tr>\n",
              "      <th>2</th>\n",
              "      <td>services</td>\n",
              "      <td>923</td>\n",
              "    </tr>\n",
              "    <tr>\n",
              "      <th>3</th>\n",
              "      <td>management</td>\n",
              "      <td>2566</td>\n",
              "    </tr>\n",
              "    <tr>\n",
              "      <th>4</th>\n",
              "      <td>retired</td>\n",
              "      <td>778</td>\n",
              "    </tr>\n",
              "    <tr>\n",
              "      <th>5</th>\n",
              "      <td>blue-collar</td>\n",
              "      <td>1944</td>\n",
              "    </tr>\n",
              "    <tr>\n",
              "      <th>6</th>\n",
              "      <td>unemployed</td>\n",
              "      <td>357</td>\n",
              "    </tr>\n",
              "    <tr>\n",
              "      <th>7</th>\n",
              "      <td>entrepreneur</td>\n",
              "      <td>328</td>\n",
              "    </tr>\n",
              "    <tr>\n",
              "      <th>8</th>\n",
              "      <td>housemaid</td>\n",
              "      <td>274</td>\n",
              "    </tr>\n",
              "    <tr>\n",
              "      <th>9</th>\n",
              "      <td>unknown</td>\n",
              "      <td>70</td>\n",
              "    </tr>\n",
              "    <tr>\n",
              "      <th>10</th>\n",
              "      <td>self-employed</td>\n",
              "      <td>405</td>\n",
              "    </tr>\n",
              "    <tr>\n",
              "      <th>11</th>\n",
              "      <td>student</td>\n",
              "      <td>360</td>\n",
              "    </tr>\n",
              "  </tbody>\n",
              "</table>\n",
              "</div>"
            ],
            "text/plain": [
              "              job  count\n",
              "0          admin.   1334\n",
              "1      technician   1823\n",
              "2        services    923\n",
              "3      management   2566\n",
              "4         retired    778\n",
              "5     blue-collar   1944\n",
              "6      unemployed    357\n",
              "7    entrepreneur    328\n",
              "8       housemaid    274\n",
              "9         unknown     70\n",
              "10  self-employed    405\n",
              "11        student    360"
            ]
          },
          "metadata": {
            "tags": []
          },
          "execution_count": 139
        }
      ]
    },
    {
      "cell_type": "markdown",
      "metadata": {
        "id": "6LD8a2FohTFb"
      },
      "source": [
        "**Find count of jobs who have a deposit.**"
      ]
    },
    {
      "cell_type": "code",
      "metadata": {
        "colab": {
          "base_uri": "https://localhost:8080/",
          "height": 421
        },
        "id": "GL6OlArqg1zK",
        "outputId": "bcb0ac68-e9d4-4d06-c7e9-54206c0ab539"
      },
      "source": [
        "df.filter(df.deposit=='yes').groupby(\"job\").count().toPandas()"
      ],
      "execution_count": 140,
      "outputs": [
        {
          "output_type": "execute_result",
          "data": {
            "text/html": [
              "<div>\n",
              "<style scoped>\n",
              "    .dataframe tbody tr th:only-of-type {\n",
              "        vertical-align: middle;\n",
              "    }\n",
              "\n",
              "    .dataframe tbody tr th {\n",
              "        vertical-align: top;\n",
              "    }\n",
              "\n",
              "    .dataframe thead th {\n",
              "        text-align: right;\n",
              "    }\n",
              "</style>\n",
              "<table border=\"1\" class=\"dataframe\">\n",
              "  <thead>\n",
              "    <tr style=\"text-align: right;\">\n",
              "      <th></th>\n",
              "      <th>job</th>\n",
              "      <th>count</th>\n",
              "    </tr>\n",
              "  </thead>\n",
              "  <tbody>\n",
              "    <tr>\n",
              "      <th>0</th>\n",
              "      <td>admin.</td>\n",
              "      <td>631</td>\n",
              "    </tr>\n",
              "    <tr>\n",
              "      <th>1</th>\n",
              "      <td>technician</td>\n",
              "      <td>840</td>\n",
              "    </tr>\n",
              "    <tr>\n",
              "      <th>2</th>\n",
              "      <td>services</td>\n",
              "      <td>369</td>\n",
              "    </tr>\n",
              "    <tr>\n",
              "      <th>3</th>\n",
              "      <td>management</td>\n",
              "      <td>1301</td>\n",
              "    </tr>\n",
              "    <tr>\n",
              "      <th>4</th>\n",
              "      <td>retired</td>\n",
              "      <td>516</td>\n",
              "    </tr>\n",
              "    <tr>\n",
              "      <th>5</th>\n",
              "      <td>blue-collar</td>\n",
              "      <td>708</td>\n",
              "    </tr>\n",
              "    <tr>\n",
              "      <th>6</th>\n",
              "      <td>unemployed</td>\n",
              "      <td>202</td>\n",
              "    </tr>\n",
              "    <tr>\n",
              "      <th>7</th>\n",
              "      <td>entrepreneur</td>\n",
              "      <td>123</td>\n",
              "    </tr>\n",
              "    <tr>\n",
              "      <th>8</th>\n",
              "      <td>housemaid</td>\n",
              "      <td>109</td>\n",
              "    </tr>\n",
              "    <tr>\n",
              "      <th>9</th>\n",
              "      <td>unknown</td>\n",
              "      <td>34</td>\n",
              "    </tr>\n",
              "    <tr>\n",
              "      <th>10</th>\n",
              "      <td>self-employed</td>\n",
              "      <td>187</td>\n",
              "    </tr>\n",
              "    <tr>\n",
              "      <th>11</th>\n",
              "      <td>student</td>\n",
              "      <td>269</td>\n",
              "    </tr>\n",
              "  </tbody>\n",
              "</table>\n",
              "</div>"
            ],
            "text/plain": [
              "              job  count\n",
              "0          admin.    631\n",
              "1      technician    840\n",
              "2        services    369\n",
              "3      management   1301\n",
              "4         retired    516\n",
              "5     blue-collar    708\n",
              "6      unemployed    202\n",
              "7    entrepreneur    123\n",
              "8       housemaid    109\n",
              "9         unknown     34\n",
              "10  self-employed    187\n",
              "11        student    269"
            ]
          },
          "metadata": {
            "tags": []
          },
          "execution_count": 140
        }
      ]
    },
    {
      "cell_type": "markdown",
      "metadata": {
        "id": "9k4DqaYmhPyd"
      },
      "source": [
        "Combine similar job categories"
      ]
    },
    {
      "cell_type": "code",
      "metadata": {
        "id": "VnR6QsUhbVo4"
      },
      "source": [
        "from pyspark.sql.functions import when\n",
        "df_new = df.withColumn(\"job\",\\\n",
        "                       when((df[\"job\"]==\"management\")|\\\n",
        "                            (df[\"job\"]==\"admin.\"),\"white-collar\")\\\n",
        "                       .when((df[\"job\"]=='services')|\\\n",
        "                             (df[\"job\"]=='housemaid'),\"pink-collar\")\\\n",
        "                       .when((df[\"job\"]=='retired')|\\\n",
        "                             (df[\"job\"]=='student')|\\\n",
        "                             (df[\"job\"]=='unemployed')|\\\n",
        "                             (df[\"job\"]=='unknown'), \"other\")\\\n",
        "                       .otherwise(df[\"job\"]))"
      ],
      "execution_count": 142,
      "outputs": []
    },
    {
      "cell_type": "code",
      "metadata": {
        "colab": {
          "base_uri": "https://localhost:8080/",
          "height": 266
        },
        "id": "O5gE6WuEjYEN",
        "outputId": "4d550702-08a0-4b26-82bc-daecc275d129"
      },
      "source": [
        "df_new.groupby(\"job\").count().toPandas()"
      ],
      "execution_count": 143,
      "outputs": [
        {
          "output_type": "execute_result",
          "data": {
            "text/html": [
              "<div>\n",
              "<style scoped>\n",
              "    .dataframe tbody tr th:only-of-type {\n",
              "        vertical-align: middle;\n",
              "    }\n",
              "\n",
              "    .dataframe tbody tr th {\n",
              "        vertical-align: top;\n",
              "    }\n",
              "\n",
              "    .dataframe thead th {\n",
              "        text-align: right;\n",
              "    }\n",
              "</style>\n",
              "<table border=\"1\" class=\"dataframe\">\n",
              "  <thead>\n",
              "    <tr style=\"text-align: right;\">\n",
              "      <th></th>\n",
              "      <th>job</th>\n",
              "      <th>count</th>\n",
              "    </tr>\n",
              "  </thead>\n",
              "  <tbody>\n",
              "    <tr>\n",
              "      <th>0</th>\n",
              "      <td>white-collar</td>\n",
              "      <td>3900</td>\n",
              "    </tr>\n",
              "    <tr>\n",
              "      <th>1</th>\n",
              "      <td>technician</td>\n",
              "      <td>1823</td>\n",
              "    </tr>\n",
              "    <tr>\n",
              "      <th>2</th>\n",
              "      <td>pink-collar</td>\n",
              "      <td>1197</td>\n",
              "    </tr>\n",
              "    <tr>\n",
              "      <th>3</th>\n",
              "      <td>other</td>\n",
              "      <td>1565</td>\n",
              "    </tr>\n",
              "    <tr>\n",
              "      <th>4</th>\n",
              "      <td>blue-collar</td>\n",
              "      <td>1944</td>\n",
              "    </tr>\n",
              "    <tr>\n",
              "      <th>5</th>\n",
              "      <td>entrepreneur</td>\n",
              "      <td>328</td>\n",
              "    </tr>\n",
              "    <tr>\n",
              "      <th>6</th>\n",
              "      <td>self-employed</td>\n",
              "      <td>405</td>\n",
              "    </tr>\n",
              "  </tbody>\n",
              "</table>\n",
              "</div>"
            ],
            "text/plain": [
              "             job  count\n",
              "0   white-collar   3900\n",
              "1     technician   1823\n",
              "2    pink-collar   1197\n",
              "3          other   1565\n",
              "4    blue-collar   1944\n",
              "5   entrepreneur    328\n",
              "6  self-employed    405"
            ]
          },
          "metadata": {
            "tags": []
          },
          "execution_count": 143
        }
      ]
    },
    {
      "cell_type": "code",
      "metadata": {
        "colab": {
          "base_uri": "https://localhost:8080/",
          "height": 266
        },
        "id": "8dnPRHdEhba3",
        "outputId": "c65e5554-8118-460b-87c8-d11736a98a6d"
      },
      "source": [
        "df_new.filter(df.deposit=='yes').groupby(\"job\").count().toPandas()"
      ],
      "execution_count": 144,
      "outputs": [
        {
          "output_type": "execute_result",
          "data": {
            "text/html": [
              "<div>\n",
              "<style scoped>\n",
              "    .dataframe tbody tr th:only-of-type {\n",
              "        vertical-align: middle;\n",
              "    }\n",
              "\n",
              "    .dataframe tbody tr th {\n",
              "        vertical-align: top;\n",
              "    }\n",
              "\n",
              "    .dataframe thead th {\n",
              "        text-align: right;\n",
              "    }\n",
              "</style>\n",
              "<table border=\"1\" class=\"dataframe\">\n",
              "  <thead>\n",
              "    <tr style=\"text-align: right;\">\n",
              "      <th></th>\n",
              "      <th>job</th>\n",
              "      <th>count</th>\n",
              "    </tr>\n",
              "  </thead>\n",
              "  <tbody>\n",
              "    <tr>\n",
              "      <th>0</th>\n",
              "      <td>white-collar</td>\n",
              "      <td>1932</td>\n",
              "    </tr>\n",
              "    <tr>\n",
              "      <th>1</th>\n",
              "      <td>technician</td>\n",
              "      <td>840</td>\n",
              "    </tr>\n",
              "    <tr>\n",
              "      <th>2</th>\n",
              "      <td>pink-collar</td>\n",
              "      <td>478</td>\n",
              "    </tr>\n",
              "    <tr>\n",
              "      <th>3</th>\n",
              "      <td>other</td>\n",
              "      <td>1021</td>\n",
              "    </tr>\n",
              "    <tr>\n",
              "      <th>4</th>\n",
              "      <td>blue-collar</td>\n",
              "      <td>708</td>\n",
              "    </tr>\n",
              "    <tr>\n",
              "      <th>5</th>\n",
              "      <td>entrepreneur</td>\n",
              "      <td>123</td>\n",
              "    </tr>\n",
              "    <tr>\n",
              "      <th>6</th>\n",
              "      <td>self-employed</td>\n",
              "      <td>187</td>\n",
              "    </tr>\n",
              "  </tbody>\n",
              "</table>\n",
              "</div>"
            ],
            "text/plain": [
              "             job  count\n",
              "0   white-collar   1932\n",
              "1     technician    840\n",
              "2    pink-collar    478\n",
              "3          other   1021\n",
              "4    blue-collar    708\n",
              "5   entrepreneur    123\n",
              "6  self-employed    187"
            ]
          },
          "metadata": {
            "tags": []
          },
          "execution_count": 144
        }
      ]
    },
    {
      "cell_type": "code",
      "metadata": {
        "id": "2QYLHmeud6eB"
      },
      "source": [
        "df=df_new"
      ],
      "execution_count": 145,
      "outputs": []
    },
    {
      "cell_type": "markdown",
      "metadata": {
        "id": "dDYmZ4xQn1sQ"
      },
      "source": [
        "**c) checking for outliers**\n",
        "\n",
        "---"
      ]
    },
    {
      "cell_type": "code",
      "metadata": {
        "colab": {
          "base_uri": "https://localhost:8080/",
          "height": 173
        },
        "id": "FirC-lFihxWu",
        "outputId": "94486266-3dd6-4925-a9d9-40bd0af94316"
      },
      "source": [
        "df.groupby(\"poutcome\").count().toPandas()"
      ],
      "execution_count": 146,
      "outputs": [
        {
          "output_type": "execute_result",
          "data": {
            "text/html": [
              "<div>\n",
              "<style scoped>\n",
              "    .dataframe tbody tr th:only-of-type {\n",
              "        vertical-align: middle;\n",
              "    }\n",
              "\n",
              "    .dataframe tbody tr th {\n",
              "        vertical-align: top;\n",
              "    }\n",
              "\n",
              "    .dataframe thead th {\n",
              "        text-align: right;\n",
              "    }\n",
              "</style>\n",
              "<table border=\"1\" class=\"dataframe\">\n",
              "  <thead>\n",
              "    <tr style=\"text-align: right;\">\n",
              "      <th></th>\n",
              "      <th>poutcome</th>\n",
              "      <th>count</th>\n",
              "    </tr>\n",
              "  </thead>\n",
              "  <tbody>\n",
              "    <tr>\n",
              "      <th>0</th>\n",
              "      <td>unknown</td>\n",
              "      <td>8326</td>\n",
              "    </tr>\n",
              "    <tr>\n",
              "      <th>1</th>\n",
              "      <td>other</td>\n",
              "      <td>537</td>\n",
              "    </tr>\n",
              "    <tr>\n",
              "      <th>2</th>\n",
              "      <td>failure</td>\n",
              "      <td>1228</td>\n",
              "    </tr>\n",
              "    <tr>\n",
              "      <th>3</th>\n",
              "      <td>success</td>\n",
              "      <td>1071</td>\n",
              "    </tr>\n",
              "  </tbody>\n",
              "</table>\n",
              "</div>"
            ],
            "text/plain": [
              "  poutcome  count\n",
              "0  unknown   8326\n",
              "1    other    537\n",
              "2  failure   1228\n",
              "3  success   1071"
            ]
          },
          "metadata": {
            "tags": []
          },
          "execution_count": 146
        }
      ]
    },
    {
      "cell_type": "markdown",
      "metadata": {
        "id": "-FmQWxQ-jlaW"
      },
      "source": [
        "**Combine unknown and other since we don't know if its success/failure.**"
      ]
    },
    {
      "cell_type": "code",
      "metadata": {
        "id": "NnQCAO0xh0xh"
      },
      "source": [
        "df_new = df.withColumn(\"poutcome\",\\\n",
        "                       when((df[\"poutcome\"]==\"other\"),\"unknown\")\n",
        "                       .otherwise(df[\"poutcome\"]))"
      ],
      "execution_count": 147,
      "outputs": []
    },
    {
      "cell_type": "code",
      "metadata": {
        "colab": {
          "base_uri": "https://localhost:8080/",
          "height": 142
        },
        "id": "T5O0xWYejssX",
        "outputId": "e98e274c-3737-4d42-96d1-4013e47a12a0"
      },
      "source": [
        "df_new.groupby(\"poutcome\").count().toPandas()"
      ],
      "execution_count": 148,
      "outputs": [
        {
          "output_type": "execute_result",
          "data": {
            "text/html": [
              "<div>\n",
              "<style scoped>\n",
              "    .dataframe tbody tr th:only-of-type {\n",
              "        vertical-align: middle;\n",
              "    }\n",
              "\n",
              "    .dataframe tbody tr th {\n",
              "        vertical-align: top;\n",
              "    }\n",
              "\n",
              "    .dataframe thead th {\n",
              "        text-align: right;\n",
              "    }\n",
              "</style>\n",
              "<table border=\"1\" class=\"dataframe\">\n",
              "  <thead>\n",
              "    <tr style=\"text-align: right;\">\n",
              "      <th></th>\n",
              "      <th>poutcome</th>\n",
              "      <th>count</th>\n",
              "    </tr>\n",
              "  </thead>\n",
              "  <tbody>\n",
              "    <tr>\n",
              "      <th>0</th>\n",
              "      <td>unknown</td>\n",
              "      <td>8863</td>\n",
              "    </tr>\n",
              "    <tr>\n",
              "      <th>1</th>\n",
              "      <td>failure</td>\n",
              "      <td>1228</td>\n",
              "    </tr>\n",
              "    <tr>\n",
              "      <th>2</th>\n",
              "      <td>success</td>\n",
              "      <td>1071</td>\n",
              "    </tr>\n",
              "  </tbody>\n",
              "</table>\n",
              "</div>"
            ],
            "text/plain": [
              "  poutcome  count\n",
              "0  unknown   8863\n",
              "1  failure   1228\n",
              "2  success   1071"
            ]
          },
          "metadata": {
            "tags": []
          },
          "execution_count": 148
        }
      ]
    },
    {
      "cell_type": "code",
      "metadata": {
        "id": "3x8WPw6OiFus"
      },
      "source": [
        "df=df_new"
      ],
      "execution_count": 160,
      "outputs": []
    },
    {
      "cell_type": "code",
      "metadata": {
        "colab": {
          "base_uri": "https://localhost:8080/",
          "height": 304
        },
        "id": "MJsfnrT0iQLM",
        "outputId": "45def150-9a25-4166-f643-5ec505cd7085"
      },
      "source": [
        "df.toPandas().plot(kind='scatter', x='age', y='balance');"
      ],
      "execution_count": 150,
      "outputs": [
        {
          "output_type": "display_data",
          "data": {
            "image/png": "[encoded data removed]",
            "text/plain": [
              "<Figure size 432x288 with 1 Axes>"
            ]
          },
          "metadata": {
            "tags": []
          }
        }
      ]
    },
    {
      "cell_type": "markdown",
      "metadata": {
        "id": "9J-5Lt9nigsL"
      },
      "source": [
        "Across all ages, majority of people have savings of less than 20000."
      ]
    },
    {
      "cell_type": "code",
      "metadata": {
        "colab": {
          "base_uri": "https://localhost:8080/"
        },
        "id": "bZFmX01nePPl",
        "outputId": "afef084d-2d4f-4dc3-8d90-9a95259e2b4a"
      },
      "source": [
        "df.show(truncate=False)"
      ],
      "execution_count": 151,
      "outputs": [
        {
          "output_type": "stream",
          "text": [
            "+---+------------+--------+---------+-------+-------+-------+----+-------+---+-----+--------+--------+-----+--------+--------+-------+\n",
            "|age|job         |marital |education|default|balance|housing|loan|contact|day|month|duration|campaign|pdays|previous|poutcome|deposit|\n",
            "+---+------------+--------+---------+-------+-------+-------+----+-------+---+-----+--------+--------+-----+--------+--------+-------+\n",
            "|59 |white-collar|married |secondary|no     |2343   |yes    |no  |unknown|5  |may  |1042    |1       |-1   |0       |unknown |yes    |\n",
            "|56 |white-collar|married |secondary|no     |45     |no     |no  |unknown|5  |may  |1467    |1       |-1   |0       |unknown |yes    |\n",
            "|41 |technician  |married |secondary|no     |1270   |yes    |no  |unknown|5  |may  |1389    |1       |-1   |0       |unknown |yes    |\n",
            "|55 |pink-collar |married |secondary|no     |2476   |yes    |no  |unknown|5  |may  |579     |1       |-1   |0       |unknown |yes    |\n",
            "|54 |white-collar|married |tertiary |no     |184    |no     |no  |unknown|5  |may  |673     |2       |-1   |0       |unknown |yes    |\n",
            "|42 |white-collar|single  |tertiary |no     |0      |yes    |yes |unknown|5  |may  |562     |2       |-1   |0       |unknown |yes    |\n",
            "|56 |white-collar|married |tertiary |no     |830    |yes    |yes |unknown|6  |may  |1201    |1       |-1   |0       |unknown |yes    |\n",
            "|60 |other       |divorced|secondary|no     |545    |yes    |no  |unknown|6  |may  |1030    |1       |-1   |0       |unknown |yes    |\n",
            "|37 |technician  |married |secondary|no     |1      |yes    |no  |unknown|6  |may  |608     |1       |-1   |0       |unknown |yes    |\n",
            "|28 |pink-collar |single  |secondary|no     |5090   |yes    |no  |unknown|6  |may  |1297    |3       |-1   |0       |unknown |yes    |\n",
            "|38 |white-collar|single  |secondary|no     |100    |yes    |no  |unknown|7  |may  |786     |1       |-1   |0       |unknown |yes    |\n",
            "|30 |blue-collar |married |secondary|no     |309    |yes    |no  |unknown|7  |may  |1574    |2       |-1   |0       |unknown |yes    |\n",
            "|29 |white-collar|married |tertiary |no     |199    |yes    |yes |unknown|7  |may  |1689    |4       |-1   |0       |unknown |yes    |\n",
            "|46 |blue-collar |single  |tertiary |no     |460    |yes    |no  |unknown|7  |may  |1102    |2       |-1   |0       |unknown |yes    |\n",
            "|31 |technician  |single  |tertiary |no     |703    |yes    |no  |unknown|8  |may  |943     |2       |-1   |0       |unknown |yes    |\n",
            "|35 |white-collar|divorced|tertiary |no     |3837   |yes    |no  |unknown|8  |may  |1084    |1       |-1   |0       |unknown |yes    |\n",
            "|32 |blue-collar |single  |primary  |no     |611    |yes    |no  |unknown|8  |may  |541     |3       |-1   |0       |unknown |yes    |\n",
            "|49 |pink-collar |married |secondary|no     |-8     |yes    |no  |unknown|8  |may  |1119    |1       |-1   |0       |unknown |yes    |\n",
            "|41 |white-collar|married |secondary|no     |55     |yes    |no  |unknown|8  |may  |1120    |2       |-1   |0       |unknown |yes    |\n",
            "|49 |white-collar|divorced|secondary|no     |168    |yes    |yes |unknown|8  |may  |513     |1       |-1   |0       |unknown |yes    |\n",
            "+---+------------+--------+---------+-------+-------+-------+----+-------+---+-----+--------+--------+-----+--------+--------+-------+\n",
            "only showing top 20 rows\n",
            "\n"
          ],
          "name": "stdout"
        }
      ]
    },
    {
      "cell_type": "markdown",
      "metadata": {
        "id": "CjdG18VMj9TV"
      },
      "source": [
        "**Summarizing numerical values**"
      ]
    },
    {
      "cell_type": "code",
      "metadata": {
        "colab": {
          "base_uri": "https://localhost:8080/",
          "height": 297
        },
        "id": "qQUEVf5ETpFh",
        "outputId": "7544323b-bbee-4615-9f91-4e8b46dc5d0c"
      },
      "source": [
        "numeric_features = [t[0] for t in df.dtypes if t[1] == 'int']\n",
        "df.select(numeric_features).describe().toPandas().transpose()"
      ],
      "execution_count": 153,
      "outputs": [
        {
          "output_type": "execute_result",
          "data": {
            "text/html": [
              "<div>\n",
              "<style scoped>\n",
              "    .dataframe tbody tr th:only-of-type {\n",
              "        vertical-align: middle;\n",
              "    }\n",
              "\n",
              "    .dataframe tbody tr th {\n",
              "        vertical-align: top;\n",
              "    }\n",
              "\n",
              "    .dataframe thead th {\n",
              "        text-align: right;\n",
              "    }\n",
              "</style>\n",
              "<table border=\"1\" class=\"dataframe\">\n",
              "  <thead>\n",
              "    <tr style=\"text-align: right;\">\n",
              "      <th></th>\n",
              "      <th>0</th>\n",
              "      <th>1</th>\n",
              "      <th>2</th>\n",
              "      <th>3</th>\n",
              "      <th>4</th>\n",
              "    </tr>\n",
              "  </thead>\n",
              "  <tbody>\n",
              "    <tr>\n",
              "      <th>summary</th>\n",
              "      <td>count</td>\n",
              "      <td>mean</td>\n",
              "      <td>stddev</td>\n",
              "      <td>min</td>\n",
              "      <td>max</td>\n",
              "    </tr>\n",
              "    <tr>\n",
              "      <th>age</th>\n",
              "      <td>11162</td>\n",
              "      <td>41.231947679627304</td>\n",
              "      <td>11.913369192215518</td>\n",
              "      <td>18</td>\n",
              "      <td>95</td>\n",
              "    </tr>\n",
              "    <tr>\n",
              "      <th>balance</th>\n",
              "      <td>11162</td>\n",
              "      <td>1528.5385235620856</td>\n",
              "      <td>3225.413325946149</td>\n",
              "      <td>-6847</td>\n",
              "      <td>81204</td>\n",
              "    </tr>\n",
              "    <tr>\n",
              "      <th>day</th>\n",
              "      <td>11162</td>\n",
              "      <td>15.658036194230425</td>\n",
              "      <td>8.420739541006462</td>\n",
              "      <td>1</td>\n",
              "      <td>31</td>\n",
              "    </tr>\n",
              "    <tr>\n",
              "      <th>duration</th>\n",
              "      <td>11162</td>\n",
              "      <td>371.99381831213043</td>\n",
              "      <td>347.12838571630687</td>\n",
              "      <td>2</td>\n",
              "      <td>3881</td>\n",
              "    </tr>\n",
              "    <tr>\n",
              "      <th>campaign</th>\n",
              "      <td>11162</td>\n",
              "      <td>2.508421429851281</td>\n",
              "      <td>2.7220771816614824</td>\n",
              "      <td>1</td>\n",
              "      <td>63</td>\n",
              "    </tr>\n",
              "    <tr>\n",
              "      <th>pdays</th>\n",
              "      <td>11162</td>\n",
              "      <td>51.33040673714388</td>\n",
              "      <td>108.75828197197717</td>\n",
              "      <td>-1</td>\n",
              "      <td>854</td>\n",
              "    </tr>\n",
              "    <tr>\n",
              "      <th>previous</th>\n",
              "      <td>11162</td>\n",
              "      <td>0.8325568894463358</td>\n",
              "      <td>2.292007218670508</td>\n",
              "      <td>0</td>\n",
              "      <td>58</td>\n",
              "    </tr>\n",
              "  </tbody>\n",
              "</table>\n",
              "</div>"
            ],
            "text/plain": [
              "              0                   1                   2      3      4\n",
              "summary   count                mean              stddev    min    max\n",
              "age       11162  41.231947679627304  11.913369192215518     18     95\n",
              "balance   11162  1528.5385235620856   3225.413325946149  -6847  81204\n",
              "day       11162  15.658036194230425   8.420739541006462      1     31\n",
              "duration  11162  371.99381831213043  347.12838571630687      2   3881\n",
              "campaign  11162   2.508421429851281  2.7220771816614824      1     63\n",
              "pdays     11162   51.33040673714388  108.75828197197717     -1    854\n",
              "previous  11162  0.8325568894463358   2.292007218670508      0     58"
            ]
          },
          "metadata": {
            "tags": []
          },
          "execution_count": 153
        }
      ]
    },
    {
      "cell_type": "markdown",
      "metadata": {
        "id": "EWqlHIUikCLH"
      },
      "source": [
        "**b) Checking for null values.**\n",
        "\n",
        "---"
      ]
    },
    {
      "cell_type": "code",
      "metadata": {
        "colab": {
          "base_uri": "https://localhost:8080/"
        },
        "id": "wLe4AUfYf3kQ",
        "outputId": "0cd63602-a7da-4fd4-bdf1-55a22285ebf8"
      },
      "source": [
        "df.createOrReplaceTempView(\"DATA\")\n",
        "for column in df.columns:\n",
        "  print(f\"printing rows where {column} is null\")\n",
        "  spark.sql(f\"SELECT * FROM DATA where {column} IS NULL\").show()"
      ],
      "execution_count": 154,
      "outputs": [
        {
          "output_type": "stream",
          "text": [
            "printing rows where age is null\n",
            "+---+---+-------+---------+-------+-------+-------+----+-------+---+-----+--------+--------+-----+--------+--------+-------+\n",
            "|age|job|marital|education|default|balance|housing|loan|contact|day|month|duration|campaign|pdays|previous|poutcome|deposit|\n",
            "+---+---+-------+---------+-------+-------+-------+----+-------+---+-----+--------+--------+-----+--------+--------+-------+\n",
            "+---+---+-------+---------+-------+-------+-------+----+-------+---+-----+--------+--------+-----+--------+--------+-------+\n",
            "\n",
            "printing rows where job is null\n",
            "+---+---+-------+---------+-------+-------+-------+----+-------+---+-----+--------+--------+-----+--------+--------+-------+\n",
            "|age|job|marital|education|default|balance|housing|loan|contact|day|month|duration|campaign|pdays|previous|poutcome|deposit|\n",
            "+---+---+-------+---------+-------+-------+-------+----+-------+---+-----+--------+--------+-----+--------+--------+-------+\n",
            "+---+---+-------+---------+-------+-------+-------+----+-------+---+-----+--------+--------+-----+--------+--------+-------+\n",
            "\n",
            "printing rows where marital is null\n",
            "+---+---+-------+---------+-------+-------+-------+----+-------+---+-----+--------+--------+-----+--------+--------+-------+\n",
            "|age|job|marital|education|default|balance|housing|loan|contact|day|month|duration|campaign|pdays|previous|poutcome|deposit|\n",
            "+---+---+-------+---------+-------+-------+-------+----+-------+---+-----+--------+--------+-----+--------+--------+-------+\n",
            "+---+---+-------+---------+-------+-------+-------+----+-------+---+-----+--------+--------+-----+--------+--------+-------+\n",
            "\n",
            "printing rows where education is null\n",
            "+---+---+-------+---------+-------+-------+-------+----+-------+---+-----+--------+--------+-----+--------+--------+-------+\n",
            "|age|job|marital|education|default|balance|housing|loan|contact|day|month|duration|campaign|pdays|previous|poutcome|deposit|\n",
            "+---+---+-------+---------+-------+-------+-------+----+-------+---+-----+--------+--------+-----+--------+--------+-------+\n",
            "+---+---+-------+---------+-------+-------+-------+----+-------+---+-----+--------+--------+-----+--------+--------+-------+\n",
            "\n",
            "printing rows where default is null\n",
            "+---+---+-------+---------+-------+-------+-------+----+-------+---+-----+--------+--------+-----+--------+--------+-------+\n",
            "|age|job|marital|education|default|balance|housing|loan|contact|day|month|duration|campaign|pdays|previous|poutcome|deposit|\n",
            "+---+---+-------+---------+-------+-------+-------+----+-------+---+-----+--------+--------+-----+--------+--------+-------+\n",
            "+---+---+-------+---------+-------+-------+-------+----+-------+---+-----+--------+--------+-----+--------+--------+-------+\n",
            "\n",
            "printing rows where balance is null\n",
            "+---+---+-------+---------+-------+-------+-------+----+-------+---+-----+--------+--------+-----+--------+--------+-------+\n",
            "|age|job|marital|education|default|balance|housing|loan|contact|day|month|duration|campaign|pdays|previous|poutcome|deposit|\n",
            "+---+---+-------+---------+-------+-------+-------+----+-------+---+-----+--------+--------+-----+--------+--------+-------+\n",
            "+---+---+-------+---------+-------+-------+-------+----+-------+---+-----+--------+--------+-----+--------+--------+-------+\n",
            "\n",
            "printing rows where housing is null\n",
            "+---+---+-------+---------+-------+-------+-------+----+-------+---+-----+--------+--------+-----+--------+--------+-------+\n",
            "|age|job|marital|education|default|balance|housing|loan|contact|day|month|duration|campaign|pdays|previous|poutcome|deposit|\n",
            "+---+---+-------+---------+-------+-------+-------+----+-------+---+-----+--------+--------+-----+--------+--------+-------+\n",
            "+---+---+-------+---------+-------+-------+-------+----+-------+---+-----+--------+--------+-----+--------+--------+-------+\n",
            "\n",
            "printing rows where loan is null\n",
            "+---+---+-------+---------+-------+-------+-------+----+-------+---+-----+--------+--------+-----+--------+--------+-------+\n",
            "|age|job|marital|education|default|balance|housing|loan|contact|day|month|duration|campaign|pdays|previous|poutcome|deposit|\n",
            "+---+---+-------+---------+-------+-------+-------+----+-------+---+-----+--------+--------+-----+--------+--------+-------+\n",
            "+---+---+-------+---------+-------+-------+-------+----+-------+---+-----+--------+--------+-----+--------+--------+-------+\n",
            "\n",
            "printing rows where contact is null\n",
            "+---+---+-------+---------+-------+-------+-------+----+-------+---+-----+--------+--------+-----+--------+--------+-------+\n",
            "|age|job|marital|education|default|balance|housing|loan|contact|day|month|duration|campaign|pdays|previous|poutcome|deposit|\n",
            "+---+---+-------+---------+-------+-------+-------+----+-------+---+-----+--------+--------+-----+--------+--------+-------+\n",
            "+---+---+-------+---------+-------+-------+-------+----+-------+---+-----+--------+--------+-----+--------+--------+-------+\n",
            "\n",
            "printing rows where day is null\n",
            "+---+---+-------+---------+-------+-------+-------+----+-------+---+-----+--------+--------+-----+--------+--------+-------+\n",
            "|age|job|marital|education|default|balance|housing|loan|contact|day|month|duration|campaign|pdays|previous|poutcome|deposit|\n",
            "+---+---+-------+---------+-------+-------+-------+----+-------+---+-----+--------+--------+-----+--------+--------+-------+\n",
            "+---+---+-------+---------+-------+-------+-------+----+-------+---+-----+--------+--------+-----+--------+--------+-------+\n",
            "\n",
            "printing rows where month is null\n",
            "+---+---+-------+---------+-------+-------+-------+----+-------+---+-----+--------+--------+-----+--------+--------+-------+\n",
            "|age|job|marital|education|default|balance|housing|loan|contact|day|month|duration|campaign|pdays|previous|poutcome|deposit|\n",
            "+---+---+-------+---------+-------+-------+-------+----+-------+---+-----+--------+--------+-----+--------+--------+-------+\n",
            "+---+---+-------+---------+-------+-------+-------+----+-------+---+-----+--------+--------+-----+--------+--------+-------+\n",
            "\n",
            "printing rows where duration is null\n",
            "+---+---+-------+---------+-------+-------+-------+----+-------+---+-----+--------+--------+-----+--------+--------+-------+\n",
            "|age|job|marital|education|default|balance|housing|loan|contact|day|month|duration|campaign|pdays|previous|poutcome|deposit|\n",
            "+---+---+-------+---------+-------+-------+-------+----+-------+---+-----+--------+--------+-----+--------+--------+-------+\n",
            "+---+---+-------+---------+-------+-------+-------+----+-------+---+-----+--------+--------+-----+--------+--------+-------+\n",
            "\n",
            "printing rows where campaign is null\n",
            "+---+---+-------+---------+-------+-------+-------+----+-------+---+-----+--------+--------+-----+--------+--------+-------+\n",
            "|age|job|marital|education|default|balance|housing|loan|contact|day|month|duration|campaign|pdays|previous|poutcome|deposit|\n",
            "+---+---+-------+---------+-------+-------+-------+----+-------+---+-----+--------+--------+-----+--------+--------+-------+\n",
            "+---+---+-------+---------+-------+-------+-------+----+-------+---+-----+--------+--------+-----+--------+--------+-------+\n",
            "\n",
            "printing rows where pdays is null\n",
            "+---+---+-------+---------+-------+-------+-------+----+-------+---+-----+--------+--------+-----+--------+--------+-------+\n",
            "|age|job|marital|education|default|balance|housing|loan|contact|day|month|duration|campaign|pdays|previous|poutcome|deposit|\n",
            "+---+---+-------+---------+-------+-------+-------+----+-------+---+-----+--------+--------+-----+--------+--------+-------+\n",
            "+---+---+-------+---------+-------+-------+-------+----+-------+---+-----+--------+--------+-----+--------+--------+-------+\n",
            "\n",
            "printing rows where previous is null\n",
            "+---+---+-------+---------+-------+-------+-------+----+-------+---+-----+--------+--------+-----+--------+--------+-------+\n",
            "|age|job|marital|education|default|balance|housing|loan|contact|day|month|duration|campaign|pdays|previous|poutcome|deposit|\n",
            "+---+---+-------+---------+-------+-------+-------+----+-------+---+-----+--------+--------+-----+--------+--------+-------+\n",
            "+---+---+-------+---------+-------+-------+-------+----+-------+---+-----+--------+--------+-----+--------+--------+-------+\n",
            "\n",
            "printing rows where poutcome is null\n",
            "+---+---+-------+---------+-------+-------+-------+----+-------+---+-----+--------+--------+-----+--------+--------+-------+\n",
            "|age|job|marital|education|default|balance|housing|loan|contact|day|month|duration|campaign|pdays|previous|poutcome|deposit|\n",
            "+---+---+-------+---------+-------+-------+-------+----+-------+---+-----+--------+--------+-----+--------+--------+-------+\n",
            "+---+---+-------+---------+-------+-------+-------+----+-------+---+-----+--------+--------+-----+--------+--------+-------+\n",
            "\n",
            "printing rows where deposit is null\n",
            "+---+---+-------+---------+-------+-------+-------+----+-------+---+-----+--------+--------+-----+--------+--------+-------+\n",
            "|age|job|marital|education|default|balance|housing|loan|contact|day|month|duration|campaign|pdays|previous|poutcome|deposit|\n",
            "+---+---+-------+---------+-------+-------+-------+----+-------+---+-----+--------+--------+-----+--------+--------+-------+\n",
            "+---+---+-------+---------+-------+-------+-------+----+-------+---+-----+--------+--------+-----+--------+--------+-------+\n",
            "\n"
          ],
          "name": "stdout"
        }
      ]
    },
    {
      "cell_type": "markdown",
      "metadata": {
        "id": "PWCwEOAioGgF"
      },
      "source": [
        "**Feature selection and Feature engineering is now compelted.**\n"
      ]
    },
    {
      "cell_type": "markdown",
      "metadata": {
        "id": "f0anJ_YikJcC"
      },
      "source": [
        "**For numerical values, plot a pairplot**"
      ]
    },
    {
      "cell_type": "code",
      "metadata": {
        "colab": {
          "base_uri": "https://localhost:8080/",
          "height": 1000
        },
        "id": "8cu-lJs7Tzwq",
        "outputId": "a8158338-1146-4520-b55e-f5d74f17e979"
      },
      "source": [
        "numeric_data = df.select(numeric_features).toPandas()\n",
        "from scipy.stats import pearsonr\n",
        "def reg_coef(x,y,label=None,color=None,**kwargs):\n",
        "    ax = plt.gca()\n",
        "    r,p = pearsonr(x,y)\n",
        "    ax.annotate('r = {:.2f}'.format(r), xy=(0.5,0.5), xycoords='axes fraction', ha='center')\n",
        "    ax.set_axis_off()\n",
        "\n",
        "g = sns.PairGrid(numeric_data)\n",
        "g.map_diag(sns.distplot)\n",
        "g.map_lower(sns.regplot)\n",
        "g.map_upper(reg_coef)\n"
      ],
      "execution_count": 155,
      "outputs": [
        {
          "output_type": "execute_result",
          "data": {
            "text/plain": [
              "<seaborn.axisgrid.PairGrid at 0x7f1b13de8690>"
            ]
          },
          "metadata": {
            "tags": []
          },
          "execution_count": 155
        },
        {
          "output_type": "display_data",
          "data": {
            "image/png": "[encoded data removed]",
            "text/plain": [
              "<Figure size 1260x1260 with 56 Axes>"
            ]
          },
          "metadata": {
            "tags": []
          }
        }
      ]
    },
    {
      "cell_type": "markdown",
      "metadata": {
        "id": "q7a71qIJUU-a"
      },
      "source": [
        "It’s obvious that there aren’t highly correlated numeric variables. Therefore, we will keep all of them for the model. However, day and month columns are not really useful, we will remove these two columns."
      ]
    },
    {
      "cell_type": "code",
      "metadata": {
        "colab": {
          "base_uri": "https://localhost:8080/"
        },
        "id": "1Fl91dI5T9we",
        "outputId": "8c22362b-1a91-44d8-a035-80287abe0504"
      },
      "source": [
        "df = df.select('age', 'job', 'marital', 'education', 'default', 'balance', \n",
        "               'housing', 'loan', 'contact', 'duration', 'campaign', 'pdays', \n",
        "               'previous', 'poutcome', 'deposit')\n",
        "cols = df.columns\n",
        "df.printSchema()"
      ],
      "execution_count": 156,
      "outputs": [
        {
          "output_type": "stream",
          "text": [
            "root\n",
            " |-- age: integer (nullable = true)\n",
            " |-- job: string (nullable = true)\n",
            " |-- marital: string (nullable = true)\n",
            " |-- education: string (nullable = true)\n",
            " |-- default: string (nullable = true)\n",
            " |-- balance: integer (nullable = true)\n",
            " |-- housing: string (nullable = true)\n",
            " |-- loan: string (nullable = true)\n",
            " |-- contact: string (nullable = true)\n",
            " |-- duration: integer (nullable = true)\n",
            " |-- campaign: integer (nullable = true)\n",
            " |-- pdays: integer (nullable = true)\n",
            " |-- previous: integer (nullable = true)\n",
            " |-- poutcome: string (nullable = true)\n",
            " |-- deposit: string (nullable = true)\n",
            "\n"
          ],
          "name": "stdout"
        }
      ]
    },
    {
      "cell_type": "markdown",
      "metadata": {
        "id": "9ff6UPXBksqz"
      },
      "source": [
        "#### Preparing Data for Machine Learning\n",
        "---\n",
        "The process includes Category Indexing, One-Hot Encoding and VectorAssembler — a feature transformer that merges multiple columns into a vector column."
      ]
    },
    {
      "cell_type": "code",
      "metadata": {
        "id": "ggn90jWDUbWc"
      },
      "source": [
        "from pyspark.ml.feature import OneHotEncoder, StringIndexer, VectorAssembler\n",
        "categoricalColumns = ['job', 'marital', 'education', 'default', 'housing', 'loan', 'contact', 'poutcome']\n",
        "stages = []\n",
        "for categoricalCol in categoricalColumns:\n",
        "    stringIndexer = StringIndexer(inputCol = categoricalCol, outputCol = categoricalCol + 'Index')\n",
        "    encoder = OneHotEncoder(inputCols=[stringIndexer.getOutputCol()], outputCols=[categoricalCol + \"classVec\"])\n",
        "    stages += [stringIndexer, encoder]\n",
        "label_stringIdx = StringIndexer(inputCol = 'deposit', outputCol = 'label')\n",
        "stages += [label_stringIdx]\n",
        "numericCols = ['age', 'balance', 'duration', 'campaign', 'pdays', 'previous']\n",
        "assemblerInputs = [c + \"classVec\" for c in categoricalColumns] + numericCols\n",
        "assembler = VectorAssembler(inputCols=assemblerInputs, outputCol=\"features\")\n",
        "stages += [assembler]"
      ],
      "execution_count": 161,
      "outputs": []
    },
    {
      "cell_type": "markdown",
      "metadata": {
        "id": "FjBQRLqGk103"
      },
      "source": [
        "The above code: \n",
        "\n",
        "* indexes each categorical column using the StringIndexer\n",
        "* converts the indexed categories into one-hot encoded variables. \n",
        "* resulting output has the binary vectors appended to the end of each row. \n",
        "* We use the StringIndexer again to encode our labels to label indices. \n",
        "* Next, we use the VectorAssembler to combine all the feature columns into a single vector column."
      ]
    },
    {
      "cell_type": "markdown",
      "metadata": {
        "id": "GrjifHSllGFD"
      },
      "source": [
        "##### Pipeline\n",
        "----\n",
        "We use Pipeline to chain multiple Transformers and Estimators together to specify our machine learning workflow. \n",
        "\n",
        "A Pipeline’s stages are specified as an ordered array."
      ]
    },
    {
      "cell_type": "code",
      "metadata": {
        "colab": {
          "base_uri": "https://localhost:8080/"
        },
        "id": "jpylm-EdUh3J",
        "outputId": "33d12d5b-8ec7-40f5-b8d1-93ddb81f0cd9"
      },
      "source": [
        "from pyspark.ml import Pipeline\n",
        "pipeline = Pipeline(stages = stages)\n",
        "pipelineModel = pipeline.fit(df)\n",
        "df = pipelineModel.transform(df)\n",
        "selectedCols = ['label', 'features'] + cols\n",
        "df = df.select(selectedCols)\n",
        "df.printSchema()\n"
      ],
      "execution_count": 162,
      "outputs": [
        {
          "output_type": "stream",
          "text": [
            "root\n",
            " |-- label: double (nullable = false)\n",
            " |-- features: vector (nullable = true)\n",
            " |-- age: integer (nullable = true)\n",
            " |-- job: string (nullable = true)\n",
            " |-- marital: string (nullable = true)\n",
            " |-- education: string (nullable = true)\n",
            " |-- default: string (nullable = true)\n",
            " |-- balance: integer (nullable = true)\n",
            " |-- housing: string (nullable = true)\n",
            " |-- loan: string (nullable = true)\n",
            " |-- contact: string (nullable = true)\n",
            " |-- duration: integer (nullable = true)\n",
            " |-- campaign: integer (nullable = true)\n",
            " |-- pdays: integer (nullable = true)\n",
            " |-- previous: integer (nullable = true)\n",
            " |-- poutcome: string (nullable = true)\n",
            " |-- deposit: string (nullable = true)\n",
            "\n"
          ],
          "name": "stdout"
        }
      ]
    },
    {
      "cell_type": "code",
      "metadata": {
        "colab": {
          "base_uri": "https://localhost:8080/"
        },
        "id": "SsGbY5wOUqkk",
        "outputId": "da792939-e394-410b-a422-eeb45a1552fc"
      },
      "source": [
        "df.show(truncate=False)"
      ],
      "execution_count": 163,
      "outputs": [
        {
          "output_type": "stream",
          "text": [
            "+-----+------------------------------------------------------------------------------------------------------+---+------------+--------+---------+-------+-------+-------+----+-------+--------+--------+-----+--------+--------+-------+\n",
            "|label|features                                                                                              |age|job         |marital |education|default|balance|housing|loan|contact|duration|campaign|pdays|previous|poutcome|deposit|\n",
            "+-----+------------------------------------------------------------------------------------------------------+---+------------+--------+---------+-------+-------+-------+----+-------+--------+--------+-----+--------+--------+-------+\n",
            "|1.0  |(24,[0,6,8,11,13,15,16,18,19,20,21,22],[1.0,1.0,1.0,1.0,1.0,1.0,1.0,59.0,2343.0,1042.0,1.0,-1.0])     |59 |white-collar|married |secondary|no     |2343   |yes    |no  |unknown|1042    |1       |-1   |0       |unknown |yes    |\n",
            "|1.0  |(24,[0,6,8,11,12,13,15,16,18,19,20,21,22],[1.0,1.0,1.0,1.0,1.0,1.0,1.0,1.0,56.0,45.0,1467.0,1.0,-1.0])|56 |white-collar|married |secondary|no     |45     |no     |no  |unknown|1467    |1       |-1   |0       |unknown |yes    |\n",
            "|1.0  |(24,[2,6,8,11,13,15,16,18,19,20,21,22],[1.0,1.0,1.0,1.0,1.0,1.0,1.0,41.0,1270.0,1389.0,1.0,-1.0])     |41 |technician  |married |secondary|no     |1270   |yes    |no  |unknown|1389    |1       |-1   |0       |unknown |yes    |\n",
            "|1.0  |(24,[4,6,8,11,13,15,16,18,19,20,21,22],[1.0,1.0,1.0,1.0,1.0,1.0,1.0,55.0,2476.0,579.0,1.0,-1.0])      |55 |pink-collar |married |secondary|no     |2476   |yes    |no  |unknown|579     |1       |-1   |0       |unknown |yes    |\n",
            "|1.0  |(24,[0,6,9,11,12,13,15,16,18,19,20,21,22],[1.0,1.0,1.0,1.0,1.0,1.0,1.0,1.0,54.0,184.0,673.0,2.0,-1.0])|54 |white-collar|married |tertiary |no     |184    |no     |no  |unknown|673     |2       |-1   |0       |unknown |yes    |\n",
            "|1.0  |(24,[0,7,9,11,15,16,18,20,21,22],[1.0,1.0,1.0,1.0,1.0,1.0,42.0,562.0,2.0,-1.0])                       |42 |white-collar|single  |tertiary |no     |0      |yes    |yes |unknown|562     |2       |-1   |0       |unknown |yes    |\n",
            "|1.0  |(24,[0,6,9,11,15,16,18,19,20,21,22],[1.0,1.0,1.0,1.0,1.0,1.0,56.0,830.0,1201.0,1.0,-1.0])             |56 |white-collar|married |tertiary |no     |830    |yes    |yes |unknown|1201    |1       |-1   |0       |unknown |yes    |\n",
            "|1.0  |(24,[3,8,11,13,15,16,18,19,20,21,22],[1.0,1.0,1.0,1.0,1.0,1.0,60.0,545.0,1030.0,1.0,-1.0])            |60 |other       |divorced|secondary|no     |545    |yes    |no  |unknown|1030    |1       |-1   |0       |unknown |yes    |\n",
            "|1.0  |(24,[2,6,8,11,13,15,16,18,19,20,21,22],[1.0,1.0,1.0,1.0,1.0,1.0,1.0,37.0,1.0,608.0,1.0,-1.0])         |37 |technician  |married |secondary|no     |1      |yes    |no  |unknown|608     |1       |-1   |0       |unknown |yes    |\n",
            "|1.0  |(24,[4,7,8,11,13,15,16,18,19,20,21,22],[1.0,1.0,1.0,1.0,1.0,1.0,1.0,28.0,5090.0,1297.0,3.0,-1.0])     |28 |pink-collar |single  |secondary|no     |5090   |yes    |no  |unknown|1297    |3       |-1   |0       |unknown |yes    |\n",
            "|1.0  |(24,[0,7,8,11,13,15,16,18,19,20,21,22],[1.0,1.0,1.0,1.0,1.0,1.0,1.0,38.0,100.0,786.0,1.0,-1.0])       |38 |white-collar|single  |secondary|no     |100    |yes    |no  |unknown|786     |1       |-1   |0       |unknown |yes    |\n",
            "|1.0  |(24,[1,6,8,11,13,15,16,18,19,20,21,22],[1.0,1.0,1.0,1.0,1.0,1.0,1.0,30.0,309.0,1574.0,2.0,-1.0])      |30 |blue-collar |married |secondary|no     |309    |yes    |no  |unknown|1574    |2       |-1   |0       |unknown |yes    |\n",
            "|1.0  |(24,[0,6,9,11,15,16,18,19,20,21,22],[1.0,1.0,1.0,1.0,1.0,1.0,29.0,199.0,1689.0,4.0,-1.0])             |29 |white-collar|married |tertiary |no     |199    |yes    |yes |unknown|1689    |4       |-1   |0       |unknown |yes    |\n",
            "|1.0  |(24,[1,7,9,11,13,15,16,18,19,20,21,22],[1.0,1.0,1.0,1.0,1.0,1.0,1.0,46.0,460.0,1102.0,2.0,-1.0])      |46 |blue-collar |single  |tertiary |no     |460    |yes    |no  |unknown|1102    |2       |-1   |0       |unknown |yes    |\n",
            "|1.0  |(24,[2,7,9,11,13,15,16,18,19,20,21,22],[1.0,1.0,1.0,1.0,1.0,1.0,1.0,31.0,703.0,943.0,2.0,-1.0])       |31 |technician  |single  |tertiary |no     |703    |yes    |no  |unknown|943     |2       |-1   |0       |unknown |yes    |\n",
            "|1.0  |(24,[0,9,11,13,15,16,18,19,20,21,22],[1.0,1.0,1.0,1.0,1.0,1.0,35.0,3837.0,1084.0,1.0,-1.0])           |35 |white-collar|divorced|tertiary |no     |3837   |yes    |no  |unknown|1084    |1       |-1   |0       |unknown |yes    |\n",
            "|1.0  |(24,[1,7,10,11,13,15,16,18,19,20,21,22],[1.0,1.0,1.0,1.0,1.0,1.0,1.0,32.0,611.0,541.0,3.0,-1.0])      |32 |blue-collar |single  |primary  |no     |611    |yes    |no  |unknown|541     |3       |-1   |0       |unknown |yes    |\n",
            "|1.0  |(24,[4,6,8,11,13,15,16,18,19,20,21,22],[1.0,1.0,1.0,1.0,1.0,1.0,1.0,49.0,-8.0,1119.0,1.0,-1.0])       |49 |pink-collar |married |secondary|no     |-8     |yes    |no  |unknown|1119    |1       |-1   |0       |unknown |yes    |\n",
            "|1.0  |(24,[0,6,8,11,13,15,16,18,19,20,21,22],[1.0,1.0,1.0,1.0,1.0,1.0,1.0,41.0,55.0,1120.0,2.0,-1.0])       |41 |white-collar|married |secondary|no     |55     |yes    |no  |unknown|1120    |2       |-1   |0       |unknown |yes    |\n",
            "|1.0  |(24,[0,8,11,15,16,18,19,20,21,22],[1.0,1.0,1.0,1.0,1.0,49.0,168.0,513.0,1.0,-1.0])                    |49 |white-collar|divorced|secondary|no     |168    |yes    |yes |unknown|513     |1       |-1   |0       |unknown |yes    |\n",
            "+-----+------------------------------------------------------------------------------------------------------+---+------------+--------+---------+-------+-------+-------+----+-------+--------+--------+-----+--------+--------+-------+\n",
            "only showing top 20 rows\n",
            "\n"
          ],
          "name": "stdout"
        }
      ]
    },
    {
      "cell_type": "markdown",
      "metadata": {
        "id": "TLycGhhZlcbN"
      },
      "source": [
        "**Randomly split data into train and test sets, and set seed for reproducibility.**\n"
      ]
    },
    {
      "cell_type": "code",
      "metadata": {
        "id": "_vjU43zulbAw"
      },
      "source": [
        "import numpy as np\n",
        "rnd_seed=23\n",
        "np.random.seed=rnd_seed\n",
        "np.random.set_state=rnd_seed"
      ],
      "execution_count": 164,
      "outputs": []
    },
    {
      "cell_type": "code",
      "metadata": {
        "colab": {
          "base_uri": "https://localhost:8080/"
        },
        "id": "mL5ZsD9EUvCB",
        "outputId": "f1a57177-a3d1-4da2-e6fe-fb9182b1a7c6"
      },
      "source": [
        "train, test = df.randomSplit([0.7, 0.3], seed = rnd_seed)\n",
        "print(\"Training Dataset Count: \" + str(train.count()))\n",
        "print(\"Test Dataset Count: \" + str(test.count()))"
      ],
      "execution_count": 165,
      "outputs": [
        {
          "output_type": "stream",
          "text": [
            "Training Dataset Count: 7836\n",
            "Test Dataset Count: 3326\n"
          ],
          "name": "stdout"
        }
      ]
    },
    {
      "cell_type": "markdown",
      "metadata": {
        "id": "AB7BfuVvojJj"
      },
      "source": [
        "### Step 2 Implement Logistics Regression.\n",
        "\n",
        "Conduct  Logistic Regression and answer the following questions:\n",
        "\n",
        "Q4 Implement Logistic Regression.\n",
        "\n",
        "a)Objective and rationale of using the specific algorithm to achieve the objective.\n",
        "\n",
        "a)Steps of implementing the algorithm with regards to the context. Create relevant graphs.\n",
        "\n",
        "b)Interpretation of the results and prediction accuracy achieved.\n",
        "\n",
        "c)Performance improvement techniques and improved accuracy achieved. Use feature selection, variable importance, compare RMSE(Regression) across models and Information gain (Decision Trees). K-fold cross validation , grid search etc."
      ]
    },
    {
      "cell_type": "markdown",
      "metadata": {
        "id": "tAVBh1KglymL"
      },
      "source": [
        "### Logistic Regression Model\n",
        "---"
      ]
    },
    {
      "cell_type": "code",
      "metadata": {
        "id": "hXgWS2jlU5uv"
      },
      "source": [
        "from pyspark.ml.classification import LogisticRegression\n",
        "lr = LogisticRegression(featuresCol = 'features', labelCol = 'label', maxIter=10)\n",
        "lrModel = lr.fit(train)"
      ],
      "execution_count": 166,
      "outputs": []
    },
    {
      "cell_type": "code",
      "metadata": {
        "colab": {
          "base_uri": "https://localhost:8080/",
          "height": 282
        },
        "id": "y3-4r_8zU_6T",
        "outputId": "93a41d6e-6abb-4daa-c600-459be63108b4"
      },
      "source": [
        "import matplotlib.pyplot as plt\n",
        "import numpy as np\n",
        "beta = np.sort(lrModel.coefficients)\n",
        "plt.plot(beta)\n",
        "plt.ylabel('Beta Coefficients')\n",
        "plt.show()\n"
      ],
      "execution_count": 96,
      "outputs": [
        {
          "output_type": "display_data",
          "data": {
            "image/png": "[encoded data removed]",
            "text/plain": [
              "<Figure size 432x288 with 1 Axes>"
            ]
          },
          "metadata": {
            "tags": []
          }
        }
      ]
    },
    {
      "cell_type": "markdown",
      "metadata": {
        "id": "XWJdcHAyl5u1"
      },
      "source": [
        "Summarize the model over the training set, we can also obtain the receiver-operating characteristic and areaUnderROC."
      ]
    },
    {
      "cell_type": "code",
      "metadata": {
        "colab": {
          "base_uri": "https://localhost:8080/",
          "height": 342
        },
        "id": "0FwXs4QgVJL7",
        "outputId": "970c4707-eb13-41bb-9d05-6d2e8fb6bc8e"
      },
      "source": [
        "trainingSummary = lrModel.summary\n",
        "roc = trainingSummary.roc.toPandas()\n",
        "plt.plot(roc['FPR'],roc['TPR'])\n",
        "plt.ylabel('False Positive Rate')\n",
        "plt.xlabel('True Positive Rate')\n",
        "plt.title('ROC Curve')\n",
        "plt.show()\n",
        "print('Training set areaUnderROC: ' + str(trainingSummary.areaUnderROC))"
      ],
      "execution_count": 167,
      "outputs": [
        {
          "output_type": "display_data",
          "data": {
            "image/png": "[encoded data removed]",
            "text/plain": [
              "<Figure size 432x288 with 1 Axes>"
            ]
          },
          "metadata": {
            "tags": []
          }
        },
        {
          "output_type": "stream",
          "text": [
            "Training set areaUnderROC: 0.8878150327957891\n"
          ],
          "name": "stdout"
        }
      ]
    },
    {
      "cell_type": "markdown",
      "metadata": {
        "id": "Y9eqKKNWm1mr"
      },
      "source": [
        "**Precision/Recall Summary**\n"
      ]
    },
    {
      "cell_type": "code",
      "metadata": {
        "colab": {
          "base_uri": "https://localhost:8080/",
          "height": 304
        },
        "id": "wCINPB8xVMrX",
        "outputId": "c42bf138-3beb-4967-f6fe-90c067072e11"
      },
      "source": [
        "pr = trainingSummary.pr.toPandas()\n",
        "plt.plot(pr['recall'],pr['precision'])\n",
        "plt.ylabel('Precision')\n",
        "plt.xlabel('Recall')\n",
        "plt.show()\n"
      ],
      "execution_count": 98,
      "outputs": [
        {
          "output_type": "display_data",
          "data": {
            "image/png": "[encoded data removed]",
            "text/plain": [
              "<Figure size 432x288 with 1 Axes>"
            ]
          },
          "metadata": {
            "tags": []
          }
        }
      ]
    },
    {
      "cell_type": "markdown",
      "metadata": {
        "id": "Q9aSxDZ3mzoP"
      },
      "source": [
        "Make predictions on the test set."
      ]
    },
    {
      "cell_type": "code",
      "metadata": {
        "colab": {
          "base_uri": "https://localhost:8080/"
        },
        "id": "aZuR81EpVPkZ",
        "outputId": "b0ebc594-64a5-4ec4-9270-cbc6356970a0"
      },
      "source": [
        "predictions = lrModel.transform(test)\n",
        "predictions.select('age', 'job', 'label', 'rawPrediction', 'prediction', 'probability').show(10)"
      ],
      "execution_count": 168,
      "outputs": [
        {
          "output_type": "stream",
          "text": [
            "+---+------------+-----+--------------------+----------+--------------------+\n",
            "|age|         job|label|       rawPrediction|prediction|         probability|\n",
            "+---+------------+-----+--------------------+----------+--------------------+\n",
            "| 26|white-collar|  0.0|[1.06229815725466...|       0.0|[0.74312948113415...|\n",
            "| 31|white-collar|  0.0|[0.67499136056654...|       0.0|[0.66261990578626...|\n",
            "| 32|white-collar|  0.0|[-0.8261289017524...|       1.0|[0.30446421516128...|\n",
            "| 33|white-collar|  0.0|[1.81734674731004...|       0.0|[0.86024745308123...|\n",
            "| 34|white-collar|  0.0|[1.18288308430367...|       0.0|[0.76546579395991...|\n",
            "| 34|white-collar|  0.0|[0.06940799992559...|       0.0|[0.51734503727337...|\n",
            "| 37|white-collar|  0.0|[1.38628380764227...|       0.0|[0.79999831143823...|\n",
            "| 41|white-collar|  0.0|[0.39557377785052...|       0.0|[0.59762374968451...|\n",
            "| 42|white-collar|  0.0|[-0.0454254915025...|       1.0|[0.48864557952104...|\n",
            "| 43|white-collar|  0.0|[0.94785700219467...|       0.0|[0.72068399970442...|\n",
            "+---+------------+-----+--------------------+----------+--------------------+\n",
            "only showing top 10 rows\n",
            "\n"
          ],
          "name": "stdout"
        }
      ]
    },
    {
      "cell_type": "markdown",
      "metadata": {
        "id": "PnAEV9ptnCha"
      },
      "source": [
        "**Evaluate our Logistic Regression model.**\n",
        "\n"
      ]
    },
    {
      "cell_type": "code",
      "metadata": {
        "colab": {
          "base_uri": "https://localhost:8080/"
        },
        "id": "z70SXBrIVSW9",
        "outputId": "0de4052a-5bf4-427a-bb0c-6b58399b55a9"
      },
      "source": [
        "from pyspark.ml.evaluation import BinaryClassificationEvaluator\n",
        "evaluator = BinaryClassificationEvaluator()\n",
        "print('Test Area Under ROC', evaluator.evaluate(predictions))"
      ],
      "execution_count": 169,
      "outputs": [
        {
          "output_type": "stream",
          "text": [
            "Test Area Under ROC 0.8777086020970232\n"
          ],
          "name": "stdout"
        }
      ]
    },
    {
      "cell_type": "markdown",
      "metadata": {
        "id": "x1DOn2nBoR90"
      },
      "source": [
        "### Q4 Implement Decision Trees\n",
        "---\n",
        "\n",
        "a)Objective and rationale of using the specific algorithm to achieve the objective.\n",
        "\n",
        "a)Steps of implementing the algorithm with regards to the context. Create relevant graphs.\n",
        "\n",
        "b)Interpretation of the results and prediction accuracy achieved.\n",
        "\n",
        "c)Performance improvement techniques and improved accuracy achieved. Use feature selection, variable importance, compare RMSE(Regression) across models and Information gain (Decision Trees). K-fold cross validation , grid searchetc."
      ]
    },
    {
      "cell_type": "markdown",
      "metadata": {
        "id": "FMxeHyHMYdBm"
      },
      "source": [
        "### Decision Tree Classifier\n",
        "---\n",
        "\n",
        "Decision trees are widely used since they are easy to interpret, handle categorical features, extend to the multi-class classification, do not require feature scaling, and are able to capture non-linearities and feature interactions.\n"
      ]
    },
    {
      "cell_type": "code",
      "metadata": {
        "colab": {
          "base_uri": "https://localhost:8080/"
        },
        "id": "5iq8W5n2VaOi",
        "outputId": "cd2b773e-afcc-45ea-ce12-24f41b79b41d"
      },
      "source": [
        "from pyspark.ml.classification import DecisionTreeClassifier\n",
        "dt = DecisionTreeClassifier(featuresCol = 'features', labelCol = 'label', maxDepth = 3)\n",
        "dtModel = dt.fit(train)\n",
        "predictions = dtModel.transform(test)\n",
        "predictions.select('age', 'job', 'label', 'rawPrediction', 'prediction', 'probability').show(10)"
      ],
      "execution_count": 170,
      "outputs": [
        {
          "output_type": "stream",
          "text": [
            "+---+------------+-----+--------------+----------+--------------------+\n",
            "|age|         job|label| rawPrediction|prediction|         probability|\n",
            "+---+------------+-----+--------------+----------+--------------------+\n",
            "| 26|white-collar|  0.0|[2946.0,841.0]|       0.0|[0.77792447847900...|\n",
            "| 31|white-collar|  0.0|[2946.0,841.0]|       0.0|[0.77792447847900...|\n",
            "| 32|white-collar|  0.0|[2946.0,841.0]|       0.0|[0.77792447847900...|\n",
            "| 33|white-collar|  0.0|[2946.0,841.0]|       0.0|[0.77792447847900...|\n",
            "| 34|white-collar|  0.0|[2946.0,841.0]|       0.0|[0.77792447847900...|\n",
            "| 34|white-collar|  0.0|[2946.0,841.0]|       0.0|[0.77792447847900...|\n",
            "| 37|white-collar|  0.0|[2946.0,841.0]|       0.0|[0.77792447847900...|\n",
            "| 41|white-collar|  0.0|[2946.0,841.0]|       0.0|[0.77792447847900...|\n",
            "| 42|white-collar|  0.0|[2946.0,841.0]|       0.0|[0.77792447847900...|\n",
            "| 43|white-collar|  0.0|[2946.0,841.0]|       0.0|[0.77792447847900...|\n",
            "+---+------------+-----+--------------+----------+--------------------+\n",
            "only showing top 10 rows\n",
            "\n"
          ],
          "name": "stdout"
        }
      ]
    },
    {
      "cell_type": "markdown",
      "metadata": {
        "id": "dzKT5piwYZ4z"
      },
      "source": [
        "**Evaluate our Decision Tree model.**"
      ]
    },
    {
      "cell_type": "code",
      "metadata": {
        "colab": {
          "base_uri": "https://localhost:8080/"
        },
        "id": "3xeSfgCAVfRp",
        "outputId": "1c609692-40de-448b-e191-1d922457e80c"
      },
      "source": [
        "evaluator = BinaryClassificationEvaluator()\n",
        "print(\"Test Area Under ROC: \" + str(evaluator.evaluate(predictions, {evaluator.metricName: \"areaUnderROC\"})))"
      ],
      "execution_count": 171,
      "outputs": [
        {
          "output_type": "stream",
          "text": [
            "Test Area Under ROC: 0.5136194389758237\n"
          ],
          "name": "stdout"
        }
      ]
    },
    {
      "cell_type": "markdown",
      "metadata": {
        "id": "lN3HAIPCYStp"
      },
      "source": [
        "One simple decision tree performed poorly because it is too weak given the range of different features. \n",
        "\n",
        "The prediction accuracy of decision trees can be improved by `Ensemble` methods, such as `Random Forest` and `Gradient-Boosted Tree`."
      ]
    },
    {
      "cell_type": "markdown",
      "metadata": {
        "id": "SttnAFo9YJOF"
      },
      "source": [
        "### Random Forest Classifier\n",
        "---"
      ]
    },
    {
      "cell_type": "code",
      "metadata": {
        "colab": {
          "base_uri": "https://localhost:8080/"
        },
        "id": "uG20eU8vVlZQ",
        "outputId": "87ca1c04-d275-47e9-c026-4a26fa6a69f0"
      },
      "source": [
        "from pyspark.ml.classification import RandomForestClassifier\n",
        "rf = RandomForestClassifier(featuresCol = 'features', labelCol = 'label')\n",
        "rfModel = rf.fit(train)\n",
        "predictions = rfModel.transform(test)\n",
        "predictions.select('age', 'job', 'label', 'rawPrediction', 'prediction', 'probability').show(10)"
      ],
      "execution_count": 172,
      "outputs": [
        {
          "output_type": "stream",
          "text": [
            "+---+------------+-----+--------------------+----------+--------------------+\n",
            "|age|         job|label|       rawPrediction|prediction|         probability|\n",
            "+---+------------+-----+--------------------+----------+--------------------+\n",
            "| 26|white-collar|  0.0|[12.4556976674967...|       0.0|[0.62278488337483...|\n",
            "| 31|white-collar|  0.0|[12.9129261577821...|       0.0|[0.64564630788910...|\n",
            "| 32|white-collar|  0.0|[9.04176861728067...|       1.0|[0.45208843086403...|\n",
            "| 33|white-collar|  0.0|[14.3824726129744...|       0.0|[0.71912363064872...|\n",
            "| 34|white-collar|  0.0|[13.3038161193021...|       0.0|[0.66519080596510...|\n",
            "| 34|white-collar|  0.0|[9.81560819300858...|       1.0|[0.49078040965042...|\n",
            "| 37|white-collar|  0.0|[13.6835588535638...|       0.0|[0.68417794267819...|\n",
            "| 41|white-collar|  0.0|[12.5762362789825...|       0.0|[0.62881181394912...|\n",
            "| 42|white-collar|  0.0|[9.17832343785396...|       1.0|[0.45891617189269...|\n",
            "| 43|white-collar|  0.0|[12.0591449744531...|       0.0|[0.60295724872265...|\n",
            "+---+------------+-----+--------------------+----------+--------------------+\n",
            "only showing top 10 rows\n",
            "\n"
          ],
          "name": "stdout"
        }
      ]
    },
    {
      "cell_type": "markdown",
      "metadata": {
        "id": "ccooXhAIYGF5"
      },
      "source": [
        "**Evaluate our Random Forest Classifier.**"
      ]
    },
    {
      "cell_type": "code",
      "metadata": {
        "colab": {
          "base_uri": "https://localhost:8080/"
        },
        "id": "eaQy4V8hVoJC",
        "outputId": "46033936-9bf7-47d1-b5cd-16b351ffa9be"
      },
      "source": [
        "evaluator = BinaryClassificationEvaluator()\n",
        "print(\"Test Area Under ROC: \" + str(evaluator.evaluate(predictions, {evaluator.metricName: \"areaUnderROC\"})))"
      ],
      "execution_count": 173,
      "outputs": [
        {
          "output_type": "stream",
          "text": [
            "Test Area Under ROC: 0.8666415023325458\n"
          ],
          "name": "stdout"
        }
      ]
    },
    {
      "cell_type": "markdown",
      "metadata": {
        "id": "UrJh3gw-YCXX"
      },
      "source": [
        "### Gradient-Boosted Tree Classifier\n",
        "---"
      ]
    },
    {
      "cell_type": "code",
      "metadata": {
        "colab": {
          "base_uri": "https://localhost:8080/"
        },
        "id": "9plQaiP2Vq-4",
        "outputId": "dffc1f88-cd40-462b-caf3-b7bbc01efd55"
      },
      "source": [
        "from pyspark.ml.classification import GBTClassifier\n",
        "gbt = GBTClassifier(maxIter=10)\n",
        "gbtModel = gbt.fit(train)\n",
        "predictions = gbtModel.transform(test)\n",
        "predictions.select('age', 'job', 'label', 'rawPrediction', 'prediction', 'probability').show(10)\n"
      ],
      "execution_count": 174,
      "outputs": [
        {
          "output_type": "stream",
          "text": [
            "+---+------------+-----+--------------------+----------+--------------------+\n",
            "|age|         job|label|       rawPrediction|prediction|         probability|\n",
            "+---+------------+-----+--------------------+----------+--------------------+\n",
            "| 26|white-collar|  0.0|[0.59770480532727...|       0.0|[0.76770717237505...|\n",
            "| 31|white-collar|  0.0|[0.15562447058564...|       0.0|[0.57719008419443...|\n",
            "| 32|white-collar|  0.0|[-0.1875944105105...|       1.0|[0.40728781701312...|\n",
            "| 33|white-collar|  0.0|[1.16858907984804...|       0.0|[0.91190966886438...|\n",
            "| 34|white-collar|  0.0|[1.04056234220111...|       0.0|[0.88905501642823...|\n",
            "| 34|white-collar|  0.0|[0.03089720844761...|       0.0|[0.51544369016133...|\n",
            "| 37|white-collar|  0.0|[1.19446270639332...|       0.0|[0.91597890316225...|\n",
            "| 41|white-collar|  0.0|[0.19579109789658...|       0.0|[0.59666352263001...|\n",
            "| 42|white-collar|  0.0|[-0.1222016962436...|       1.0|[0.43920149088407...|\n",
            "| 43|white-collar|  0.0|[0.23079422999185...|       0.0|[0.61339093528583...|\n",
            "+---+------------+-----+--------------------+----------+--------------------+\n",
            "only showing top 10 rows\n",
            "\n"
          ],
          "name": "stdout"
        }
      ]
    },
    {
      "cell_type": "markdown",
      "metadata": {
        "id": "TqP4x1zJX9zN"
      },
      "source": [
        "**Evaluate our Gradient-Boosted Tree Classifier.**"
      ]
    },
    {
      "cell_type": "code",
      "metadata": {
        "colab": {
          "base_uri": "https://localhost:8080/"
        },
        "id": "9I3JRFgHVuvN",
        "outputId": "e5718a32-ea48-4784-b7e6-c45191f055da"
      },
      "source": [
        "evaluator = BinaryClassificationEvaluator()\n",
        "print(\"Test Area Under ROC: \" + str(evaluator.evaluate(predictions, {evaluator.metricName: \"areaUnderROC\"})))"
      ],
      "execution_count": 175,
      "outputs": [
        {
          "output_type": "stream",
          "text": [
            "Test Area Under ROC: 0.8811277666387048\n"
          ],
          "name": "stdout"
        }
      ]
    },
    {
      "cell_type": "markdown",
      "metadata": {
        "id": "87ALwbUuX11n"
      },
      "source": [
        "`Gradient-Boosted Tree` achieved the best results, we will try tuning this model with the `ParamGridBuilder` and the `CrossValidator`. \n",
        "\n",
        "Before that we can use `explainParams()` to print a list of all params and their definitions to understand what params available for tuning."
      ]
    },
    {
      "cell_type": "code",
      "metadata": {
        "colab": {
          "base_uri": "https://localhost:8080/"
        },
        "id": "uxXnWYBgVx8l",
        "outputId": "5d8606f5-dbe5-4dc4-f578-6d896fa4a26d"
      },
      "source": [
        "print(gbt.explainParams())"
      ],
      "execution_count": 107,
      "outputs": [
        {
          "output_type": "stream",
          "text": [
            "cacheNodeIds: If false, the algorithm will pass trees to executors to match instances with nodes. If true, the algorithm will cache node IDs for each instance. Caching can speed up training of deeper trees. Users can set how often should the cache be checkpointed or disable it by setting checkpointInterval. (default: False)\n",
            "checkpointInterval: set checkpoint interval (>= 1) or disable checkpoint (-1). E.g. 10 means that the cache will get checkpointed every 10 iterations. Note: this setting will be ignored if the checkpoint directory is not set in the SparkContext. (default: 10)\n",
            "featureSubsetStrategy: The number of features to consider for splits at each tree node. Supported options: 'auto' (choose automatically for task: If numTrees == 1, set to 'all'. If numTrees > 1 (forest), set to 'sqrt' for classification and to 'onethird' for regression), 'all' (use all features), 'onethird' (use 1/3 of the features), 'sqrt' (use sqrt(number of features)), 'log2' (use log2(number of features)), 'n' (when n is in the range (0, 1.0], use n * number of features. When n is in the range (1, number of features), use n features). default = 'auto' (default: all)\n",
            "featuresCol: features column name. (default: features)\n",
            "impurity: Criterion used for information gain calculation (case-insensitive). Supported options: variance (default: variance)\n",
            "labelCol: label column name. (default: label)\n",
            "leafCol: Leaf indices column name. Predicted leaf index of each instance in each tree by preorder. (default: )\n",
            "lossType: Loss function which GBT tries to minimize (case-insensitive). Supported options: logistic (default: logistic)\n",
            "maxBins: Max number of bins for discretizing continuous features.  Must be >=2 and >= number of categories for any categorical feature. (default: 32)\n",
            "maxDepth: Maximum depth of the tree. (>= 0) E.g., depth 0 means 1 leaf node; depth 1 means 1 internal node + 2 leaf nodes. (default: 5)\n",
            "maxIter: max number of iterations (>= 0). (default: 20, current: 10)\n",
            "maxMemoryInMB: Maximum memory in MB allocated to histogram aggregation. If too small, then 1 node will be split per iteration, and its aggregates may exceed this size. (default: 256)\n",
            "minInfoGain: Minimum information gain for a split to be considered at a tree node. (default: 0.0)\n",
            "minInstancesPerNode: Minimum number of instances each child must have after split. If a split causes the left or right child to have fewer than minInstancesPerNode, the split will be discarded as invalid. Should be >= 1. (default: 1)\n",
            "minWeightFractionPerNode: Minimum fraction of the weighted sample count that each child must have after split. If a split causes the fraction of the total weight in the left or right child to be less than minWeightFractionPerNode, the split will be discarded as invalid. Should be in interval [0.0, 0.5). (default: 0.0)\n",
            "predictionCol: prediction column name. (default: prediction)\n",
            "probabilityCol: Column name for predicted class conditional probabilities. Note: Not all models output well-calibrated probability estimates! These probabilities should be treated as confidences, not precise probabilities. (default: probability)\n",
            "rawPredictionCol: raw prediction (a.k.a. confidence) column name. (default: rawPrediction)\n",
            "seed: random seed. (default: 7960390429117093986)\n",
            "stepSize: Step size (a.k.a. learning rate) in interval (0, 1] for shrinking the contribution of each estimator. (default: 0.1)\n",
            "subsamplingRate: Fraction of the training data used for learning each decision tree, in range (0, 1]. (default: 1.0)\n",
            "thresholds: Thresholds in multi-class classification to adjust the probability of predicting each class. Array must have length equal to the number of classes, with values > 0, excepting that at most one value may be 0. The class with largest value p/t is predicted, where p is the original probability of that class and t is the class's threshold. (undefined)\n",
            "validationIndicatorCol: name of the column that indicates whether each row is for training or for validation. False indicates training; true indicates validation. (undefined)\n",
            "validationTol: Threshold for stopping early when fit with validation is used. If the error rate on the validation input changes by less than the validationTol, then learning will stop early (before `maxIter`). This parameter is ignored when fit without validation is used. (default: 0.01)\n",
            "weightCol: weight column name. If this is not set or empty, we treat all instance weights as 1.0. (undefined)\n"
          ],
          "name": "stdout"
        }
      ]
    },
    {
      "cell_type": "code",
      "metadata": {
        "colab": {
          "base_uri": "https://localhost:8080/"
        },
        "id": "VTjRLFs4V1D8",
        "outputId": "a56d7648-4799-4310-96b7-30aa5a44d008"
      },
      "source": [
        "from pyspark.ml.tuning import ParamGridBuilder, CrossValidator\n",
        "paramGrid = (ParamGridBuilder()\n",
        "             .addGrid(gbt.maxDepth, [2, 4, 6])\n",
        "             .addGrid(gbt.maxBins, [20, 60])\n",
        "             .addGrid(gbt.maxIter, [10, 20])\n",
        "             .build())\n",
        "cv = CrossValidator(estimator=gbt, estimatorParamMaps=paramGrid, evaluator=evaluator, numFolds=5)\n",
        "\n",
        "cvModel = cv.fit(train)\n",
        "predictions = cvModel.transform(test)\n",
        "evaluator.evaluate(predictions)\n"
      ],
      "execution_count": 176,
      "outputs": [
        {
          "output_type": "execute_result",
          "data": {
            "text/plain": [
              "0.887843119873661"
            ]
          },
          "metadata": {
            "tags": []
          },
          "execution_count": 176
        }
      ]
    },
    {
      "cell_type": "code",
      "metadata": {
        "id": "Y4qDHAKYV66v"
      },
      "source": [
        ""
      ],
      "execution_count": null,
      "outputs": []
    }
  ]
}